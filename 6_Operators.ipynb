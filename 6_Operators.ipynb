{
 "cells": [
  {
   "cell_type": "markdown",
   "metadata": {
    "id": "UYLDRhZSSgAZ"
   },
   "source": [
    "# Operators"
   ]
  },
  {
   "cell_type": "markdown",
   "metadata": {
    "id": "kC9tVTAWSgAh"
   },
   "source": [
    "Operators are special symbols in Python that carry out arithmetic or logical computation. The value that the operator operates on is called the operand."
   ]
  },
  {
   "cell_type": "markdown",
   "metadata": {
    "id": "vZnHGqsGSgAk"
   },
   "source": [
    "# Operator Types"
   ]
  },
  {
   "cell_type": "markdown",
   "metadata": {
    "id": "zsfgNNNjSgAy"
   },
   "source": [
    "1. Arithmetic operators\n",
    "    \n",
    "2. Comparison (Relational) operators\n",
    "\n",
    "3. Logical (Boolean) operators\n",
    "\n",
    "4. Assignment operators\n",
    "\n",
    "5. Special operators"
   ]
  },
  {
   "cell_type": "markdown",
   "metadata": {
    "id": "yK35NiBxSgA0"
   },
   "source": [
    "# Arithmetic Operators"
   ]
  },
  {
   "cell_type": "markdown",
   "metadata": {
    "id": "OTWQVCjvSgA2"
   },
   "source": [
    "Arithmetic operators are used to perform mathematical operations like addition, subtraction, multiplication etc."
   ]
  },
  {
   "cell_type": "markdown",
   "metadata": {
    "id": "kWUf9v_TSgA4"
   },
   "source": [
    "    + , -, *, /, %, //, **  are arithmetic operators"
   ]
  },
  {
   "cell_type": "markdown",
   "metadata": {
    "id": "iTluGXlZSgBA"
   },
   "source": [
    "Example:"
   ]
  },
  {
   "cell_type": "code",
   "execution_count": 3,
   "metadata": {
    "colab": {
     "base_uri": "https://localhost:8080/"
    },
    "id": "JhgnowB6SgBD",
    "outputId": "82a773d5-8fe5-4254-ba68-ac0eca4807f0",
    "scrolled": true
   },
   "outputs": [
    {
     "name": "stdout",
     "output_type": "stream",
     "text": [
      "25\n",
      "17\n",
      "84\n",
      "5.25\n"
     ]
    }
   ],
   "source": [
    "x, y = 21, 4\n",
    "\n",
    "#addition\n",
    "print(x + y)\n",
    "#subtraction(-)\n",
    "print(x - y)\n",
    "#multiplication(*)\n",
    "print(x * y)\n",
    "#division(/)\n",
    "print(x / y)\n"
   ]
  },
  {
   "cell_type": "code",
   "execution_count": 4,
   "metadata": {
    "colab": {
     "base_uri": "https://localhost:8080/"
    },
    "id": "r19BlDuKMQOs",
    "outputId": "cc2d4531-4690-47ca-812f-bb46f86d0c77"
   },
   "outputs": [
    {
     "name": "stdout",
     "output_type": "stream",
     "text": [
      "1\n",
      "5\n",
      "194481\n"
     ]
    }
   ],
   "source": [
    "#modulo division (%)\n",
    "print(x % y)\n",
    "#Floor Division (//)\n",
    "print(x // y)\n",
    "#Exponent (**)\n",
    "print(x ** y)"
   ]
  },
  {
   "cell_type": "code",
   "execution_count": null,
   "metadata": {
    "id": "DXWlln4KLbgR"
   },
   "outputs": [],
   "source": [
    "Precedence of operators\n",
    "\n",
    "()  Brackets\n",
    "\n",
    "\n",
    "**\tExponentiation (raise to the power)\n",
    "\n",
    "* / % //\tMultiply, divide, modulo and floor division\n",
    "\n",
    "\n",
    "+ -\tAddition and subtraction\n",
    "\n",
    "<= < > >=\tComparison operators\n",
    "\n",
    "<> == !=\tEquality operators\n",
    "\n",
    "= %= /= //= -= += *= **=\tAssignment operators\n",
    "\n",
    "is is not\tIdentity operators\n",
    "\n",
    "in not in\tMembership operators\n",
    "\n",
    "not or and\tLogical operators"
   ]
  },
  {
   "cell_type": "code",
   "execution_count": null,
   "metadata": {
    "colab": {
     "base_uri": "https://localhost:8080/"
    },
    "id": "AV8OuM34M0q9",
    "outputId": "b201ec73-7b2a-42c1-f813-9b031cc36dd0"
   },
   "outputs": [
    {
     "data": {
      "text/plain": [
       "2.0"
      ]
     },
     "execution_count": 3,
     "metadata": {},
     "output_type": "execute_result"
    }
   ],
   "source": [
    "x=(8+2)/5\n",
    "x"
   ]
  },
  {
   "cell_type": "code",
   "execution_count": null,
   "metadata": {
    "colab": {
     "base_uri": "https://localhost:8080/"
    },
    "id": "erhjOdq8M7Sr",
    "outputId": "c2620d85-6625-45b7-87c1-3caad11515d8"
   },
   "outputs": [
    {
     "data": {
      "text/plain": [
       "8.4"
      ]
     },
     "execution_count": 5,
     "metadata": {},
     "output_type": "execute_result"
    }
   ],
   "source": [
    "y=8+2/5\n",
    "y"
   ]
  },
  {
   "cell_type": "code",
   "execution_count": null,
   "metadata": {
    "colab": {
     "base_uri": "https://localhost:8080/"
    },
    "id": "FuT6_vjmNLb_",
    "outputId": "b470e010-491e-4d41-928c-eca1999450ec"
   },
   "outputs": [
    {
     "name": "stdout",
     "output_type": "stream",
     "text": [
      "10\n",
      "11\n"
     ]
    }
   ],
   "source": [
    "#ASSIGNMENT OPERATOR\n",
    "a=10\n",
    "print(a)\n",
    "#a=a+1\n",
    "a+=1\n",
    "print(a)"
   ]
  },
  {
   "cell_type": "markdown",
   "metadata": {
    "id": "5f5P-cAISgBU"
   },
   "source": [
    "# Relational (Comparision) Operators"
   ]
  },
  {
   "cell_type": "markdown",
   "metadata": {
    "id": "nbz5X5RWSgBW"
   },
   "source": [
    "Comparison operators are used to compare values. It either returns True or False according to the condition."
   ]
  },
  {
   "cell_type": "markdown",
   "metadata": {
    "id": "ppI4OGYLSgBW"
   },
   "source": [
    "    >, <, ==, !=, >=, <= are comparision operators"
   ]
  },
  {
   "cell_type": "code",
   "execution_count": 6,
   "metadata": {
    "colab": {
     "base_uri": "https://localhost:8080/"
    },
    "id": "7hGvx9__SgBY",
    "outputId": "f1f586b2-8445-408c-d6f3-6a4e6dbb93d4"
   },
   "outputs": [
    {
     "data": {
      "text/plain": [
       "True"
      ]
     },
     "execution_count": 6,
     "metadata": {},
     "output_type": "execute_result"
    }
   ],
   "source": [
    "a, b = 10, 20         \n",
    "#check a is less than b\n",
    "a < b"
   ]
  },
  {
   "cell_type": "code",
   "execution_count": null,
   "metadata": {
    "id": "XN8az0mhKPd0",
    "outputId": "31bb0bb0-e8fa-428d-f6ef-847407dcb91b"
   },
   "outputs": [
    {
     "data": {
      "text/plain": [
       "False"
      ]
     },
     "execution_count": 5,
     "metadata": {},
     "output_type": "execute_result"
    }
   ],
   "source": [
    "#check a is greater than b\n",
    "a > b"
   ]
  },
  {
   "cell_type": "code",
   "execution_count": 7,
   "metadata": {
    "colab": {
     "base_uri": "https://localhost:8080/"
    },
    "id": "kkCUxaSCKPd0",
    "outputId": "1fc8becf-a4eb-46a2-84d5-44da67e6bc7e"
   },
   "outputs": [
    {
     "data": {
      "text/plain": [
       "False"
      ]
     },
     "execution_count": 7,
     "metadata": {},
     "output_type": "execute_result"
    }
   ],
   "source": [
    "#check a is equal to b\n",
    "a == b"
   ]
  },
  {
   "cell_type": "code",
   "execution_count": null,
   "metadata": {
    "id": "bsfcbi9IKPd1",
    "outputId": "ebe53392-4b54-4042-db59-04ba0a660e87"
   },
   "outputs": [
    {
     "data": {
      "text/plain": [
       "True"
      ]
     },
     "execution_count": 7,
     "metadata": {},
     "output_type": "execute_result"
    }
   ],
   "source": [
    "\n",
    "#check a is not equal to b (!=)\n",
    "a!=b"
   ]
  },
  {
   "cell_type": "code",
   "execution_count": null,
   "metadata": {
    "id": "Fj39V9B6KPd1",
    "outputId": "fb8e14ae-3135-4d65-a1dc-f705f9994520"
   },
   "outputs": [
    {
     "data": {
      "text/plain": [
       "False"
      ]
     },
     "execution_count": 9,
     "metadata": {},
     "output_type": "execute_result"
    }
   ],
   "source": [
    "#check a greater than or equal to b\n",
    "a>=b"
   ]
  },
  {
   "cell_type": "code",
   "execution_count": null,
   "metadata": {
    "id": "Q03jOCzTKPd2",
    "outputId": "e6c12841-2183-4c61-aa52-d96de6d3c79e"
   },
   "outputs": [
    {
     "data": {
      "text/plain": [
       "True"
      ]
     },
     "execution_count": 10,
     "metadata": {},
     "output_type": "execute_result"
    }
   ],
   "source": [
    "\n",
    "#check a less than or equal to b\n",
    "a<=b"
   ]
  },
  {
   "cell_type": "code",
   "execution_count": 8,
   "metadata": {
    "colab": {
     "base_uri": "https://localhost:8080/"
    },
    "id": "2FhjdZ7UKPd2",
    "outputId": "8645b422-39b4-4332-d0c8-b1100b9383e2"
   },
   "outputs": [
    {
     "data": {
      "text/plain": [
       "True"
      ]
     },
     "execution_count": 8,
     "metadata": {},
     "output_type": "execute_result"
    }
   ],
   "source": [
    "#A\n",
    "10<77"
   ]
  },
  {
   "cell_type": "code",
   "execution_count": 9,
   "metadata": {
    "colab": {
     "base_uri": "https://localhost:8080/"
    },
    "id": "h-VRwg2sKPd2",
    "outputId": "816aa925-d60f-42c7-85c5-61f2b981ecb0"
   },
   "outputs": [
    {
     "data": {
      "text/plain": [
       "False"
      ]
     },
     "execution_count": 9,
     "metadata": {},
     "output_type": "execute_result"
    }
   ],
   "source": [
    "#B\n",
    "a<6"
   ]
  },
  {
   "cell_type": "code",
   "execution_count": 10,
   "metadata": {
    "colab": {
     "base_uri": "https://localhost:8080/"
    },
    "id": "VL2iRDnVKPd3",
    "outputId": "c47544d0-5f3b-4b04-8951-01bf137709ea"
   },
   "outputs": [
    {
     "data": {
      "text/plain": [
       "True"
      ]
     },
     "execution_count": 10,
     "metadata": {},
     "output_type": "execute_result"
    }
   ],
   "source": [
    "#C\n",
    "b==10+10"
   ]
  },
  {
   "cell_type": "code",
   "execution_count": null,
   "metadata": {
    "id": "Y7So8wB0KPd3"
   },
   "outputs": [],
   "source": [
    "#D\n",
    "a+b<100"
   ]
  },
  {
   "cell_type": "code",
   "execution_count": null,
   "metadata": {
    "id": "IoPJ6OEdKPd3"
   },
   "outputs": [],
   "source": [
    "a*3>=b+10"
   ]
  },
  {
   "cell_type": "code",
   "execution_count": null,
   "metadata": {
    "id": "EypDdGTlKPd3"
   },
   "outputs": [],
   "source": [
    "#create atlest 5 statments involving relational operators"
   ]
  },
  {
   "cell_type": "markdown",
   "metadata": {
    "id": "GgmhHsbMSgBk"
   },
   "source": [
    "# Logical Operators"
   ]
  },
  {
   "cell_type": "markdown",
   "metadata": {
    "id": "3oeIy6OwSgBm"
   },
   "source": [
    "Logical operators are  **and, or, not** operators."
   ]
  },
  {
   "cell_type": "code",
   "execution_count": null,
   "metadata": {
    "colab": {
     "base_uri": "https://localhost:8080/"
    },
    "id": "_1qPCBgsSgBn",
    "outputId": "1c14587e-2ec0-44bc-b566-91e31b779612"
   },
   "outputs": [
    {
     "data": {
      "text/plain": [
       "True"
      ]
     },
     "execution_count": 8,
     "metadata": {},
     "output_type": "execute_result"
    }
   ],
   "source": [
    "a, b = 10,20\n",
    "\n",
    "#and operator - Returns True if both statements are true\n",
    "a==10 and b==20\n"
   ]
  },
  {
   "cell_type": "code",
   "execution_count": null,
   "metadata": {
    "id": "iKOrj_HbOhCh"
   },
   "outputs": [],
   "source": [
    "a!=10 and b==20"
   ]
  },
  {
   "cell_type": "code",
   "execution_count": null,
   "metadata": {
    "id": "pqyPd8G7OmOs"
   },
   "outputs": [],
   "source": [
    "a>5 and b<20"
   ]
  },
  {
   "cell_type": "code",
   "execution_count": 11,
   "metadata": {
    "colab": {
     "base_uri": "https://localhost:8080/"
    },
    "id": "J32dOH48Oz0q",
    "outputId": "0cc42f8a-df4c-45b6-9527-9579e99eb42a"
   },
   "outputs": [
    {
     "data": {
      "text/plain": [
       "False"
      ]
     },
     "execution_count": 11,
     "metadata": {},
     "output_type": "execute_result"
    }
   ],
   "source": [
    "name='nilay'\n",
    "name=='Nilay'"
   ]
  },
  {
   "cell_type": "code",
   "execution_count": 12,
   "metadata": {
    "colab": {
     "base_uri": "https://localhost:8080/"
    },
    "id": "J2k8WCAIO5Jo",
    "outputId": "fa9dd7b9-f298-4653-b28c-04c0988f1620"
   },
   "outputs": [
    {
     "data": {
      "text/plain": [
       "True"
      ]
     },
     "execution_count": 12,
     "metadata": {},
     "output_type": "execute_result"
    }
   ],
   "source": [
    "height=174.5\n",
    "height>100.5 and name=='nilay'"
   ]
  },
  {
   "cell_type": "code",
   "execution_count": 13,
   "metadata": {
    "colab": {
     "base_uri": "https://localhost:8080/"
    },
    "id": "-rubbgBeOdSJ",
    "outputId": "7537e149-c209-484f-efc8-a36e29a5559d"
   },
   "outputs": [
    {
     "data": {
      "text/plain": [
       "False"
      ]
     },
     "execution_count": 13,
     "metadata": {},
     "output_type": "execute_result"
    }
   ],
   "source": [
    "# or operator - Returns True if one of the statements is true\n",
    "\n",
    "a!=10 and b==20"
   ]
  },
  {
   "cell_type": "code",
   "execution_count": 14,
   "metadata": {
    "colab": {
     "base_uri": "https://localhost:8080/"
    },
    "id": "OwVlhuR171kd",
    "outputId": "ce24301e-026d-4900-aa5b-b206f25a5e0c"
   },
   "outputs": [
    {
     "data": {
      "text/plain": [
       "True"
      ]
     },
     "execution_count": 14,
     "metadata": {},
     "output_type": "execute_result"
    }
   ],
   "source": [
    "a!=10 or b==20"
   ]
  },
  {
   "cell_type": "code",
   "execution_count": null,
   "metadata": {
    "id": "WgmVb6_U7_3J"
   },
   "outputs": [],
   "source": []
  },
  {
   "cell_type": "code",
   "execution_count": 18,
   "metadata": {
    "colab": {
     "base_uri": "https://localhost:8080/"
    },
    "id": "vlyj6EMUKPd4",
    "outputId": "112fb990-8b6a-4d99-94eb-ebf82edaf51e"
   },
   "outputs": [
    {
     "data": {
      "text/plain": [
       "True"
      ]
     },
     "execution_count": 18,
     "metadata": {},
     "output_type": "execute_result"
    }
   ],
   "source": [
    "# not operator - Reverse the result, returns False if the result is true and vice versa\n",
    "\n",
    "a==10"
   ]
  },
  {
   "cell_type": "code",
   "execution_count": 19,
   "metadata": {
    "colab": {
     "base_uri": "https://localhost:8080/"
    },
    "id": "g3yZz2VF8jXr",
    "outputId": "3a3d792d-d74d-402a-f013-54a7e00f76a1"
   },
   "outputs": [
    {
     "data": {
      "text/plain": [
       "False"
      ]
     },
     "execution_count": 19,
     "metadata": {},
     "output_type": "execute_result"
    }
   ],
   "source": [
    "not a==10"
   ]
  },
  {
   "cell_type": "code",
   "execution_count": null,
   "metadata": {
    "id": "S2LZU6pg8nBu"
   },
   "outputs": [],
   "source": [
    "not False"
   ]
  },
  {
   "cell_type": "code",
   "execution_count": null,
   "metadata": {
    "id": "AE5YgSM6KPd4"
   },
   "outputs": [],
   "source": [
    "x==10 and y==20\n",
    "# T   and   T"
   ]
  },
  {
   "cell_type": "code",
   "execution_count": null,
   "metadata": {
    "id": "0X3zGJJiKPd4"
   },
   "outputs": [],
   "source": [
    "x+20>=y+10 or 30+y<50\n",
    "#30>=30       50<50\n",
    "#   T      or F   "
   ]
  },
  {
   "cell_type": "code",
   "execution_count": null,
   "metadata": {
    "id": "TbnpdJI4KPd5"
   },
   "outputs": [],
   "source": [
    "#create atlest 5 statments involving relational & logical operators"
   ]
  },
  {
   "cell_type": "code",
   "execution_count": null,
   "metadata": {
    "id": "hhqWC2c1KPd5",
    "outputId": "3ec3e3e4-3edb-41fc-b035-d7d5bc942b46"
   },
   "outputs": [
    {
     "data": {
      "text/plain": [
       "True"
      ]
     },
     "execution_count": 7,
     "metadata": {},
     "output_type": "execute_result"
    }
   ],
   "source": [
    "per=66\n",
    "(per>=60) and (per<=75)\n",
    "    #a     and    b"
   ]
  },
  {
   "cell_type": "markdown",
   "metadata": {
    "id": "hEk--DfiSgB9"
   },
   "source": [
    "# Assignment operators"
   ]
  },
  {
   "cell_type": "markdown",
   "metadata": {
    "id": "C1c95GpRSgB9"
   },
   "source": [
    "Assignment operators are used in Python to assign values to variables.\n",
    "\n",
    "a = 5 is a simple assignment operator that assigns the value 5 on the right to the variable a on the left."
   ]
  },
  {
   "cell_type": "markdown",
   "metadata": {
    "id": "y_57-oOjSgCC"
   },
   "source": [
    "    =,  +=,  -=,  *=,  /=,  %=,  //=,  **=, &=,  |=,  ^=,  >>=,  <<= are Assignment operators"
   ]
  },
  {
   "cell_type": "code",
   "execution_count": null,
   "metadata": {
    "id": "j53s1FudKPd7",
    "outputId": "0b145edc-75ca-47f0-b3a0-086ea42312ae"
   },
   "outputs": [
    {
     "name": "stdout",
     "output_type": "stream",
     "text": [
      "10\n",
      "11\n"
     ]
    }
   ],
   "source": [
    "a=10\n",
    "print(a)\n",
    "#a=a+1\n",
    "a+=1\n",
    "print(a)"
   ]
  },
  {
   "cell_type": "code",
   "execution_count": null,
   "metadata": {
    "id": "D0RnR3ZAKPd7",
    "outputId": "16ce7a64-5659-43f2-efe1-965a607d03a0"
   },
   "outputs": [
    {
     "name": "stdout",
     "output_type": "stream",
     "text": [
      "11\n",
      "22\n"
     ]
    }
   ],
   "source": [
    "print(a)\n",
    "#a=a*2\n",
    "a*=2\n",
    "print(a)\n"
   ]
  },
  {
   "cell_type": "code",
   "execution_count": null,
   "metadata": {
    "id": "7Tc1xUCkSgCD",
    "outputId": "f4e3b0ac-b6a3-4ba4-e2fc-03e554242c9b"
   },
   "outputs": [
    {
     "name": "stdout",
     "output_type": "stream",
     "text": [
      "20\n"
     ]
    }
   ],
   "source": [
    "a = 10\n",
    "\n",
    "a += 10         #add AND\n",
    "print(a)\n",
    "\n",
    "#subtract AND (-=)\n",
    "\n",
    "#Multiply AND (*=)\n",
    "\n",
    "#Divide AND (/=)\n",
    "\n",
    "#Modulus AND (%=)\n",
    "\n",
    "#Floor Division (//=)\n",
    "\n",
    "#Exponent AND (**=)\n"
   ]
  },
  {
   "cell_type": "code",
   "execution_count": null,
   "metadata": {
    "id": "KPSeCIIbgNYv"
   },
   "outputs": [],
   "source": [
    "#multiple variable init.\n",
    "x,y,z=2,4,6\n",
    "x,y,z"
   ]
  },
  {
   "cell_type": "code",
   "execution_count": null,
   "metadata": {
    "id": "ZNgywLNAgVyl"
   },
   "outputs": [],
   "source": [
    "\"\"\"\n",
    "\n",
    "\n",
    "\"\"\""
   ]
  },
  {
   "cell_type": "markdown",
   "metadata": {
    "id": "guBN19WCSgCL"
   },
   "source": [
    "# Special Operators"
   ]
  },
  {
   "cell_type": "markdown",
   "metadata": {
    "id": "aSTQ7HyNSgC2"
   },
   "source": [
    "# MemberShip Operators"
   ]
  },
  {
   "cell_type": "markdown",
   "metadata": {
    "id": "JTqZfmzqSgC3"
   },
   "source": [
    "**in and not in** are the membership operators in Python. \n",
    "    \n",
    "They are used to test whether a value or variable is found in a sequence (string, list, tuple, set and   dictionary)."
   ]
  },
  {
   "cell_type": "code",
   "execution_count": null,
   "metadata": {
    "id": "u5I1QWFkSgC5",
    "outputId": "67ea768e-3bf9-423c-9acd-bcb5fdb8c911"
   },
   "outputs": [
    {
     "name": "stdout",
     "output_type": "stream",
     "text": [
      "True\n"
     ]
    }
   ],
   "source": [
    "lst = [1, 2, 3, 4]\n",
    "print(11 not in lst)       #check 1 is present in a given list or not\n",
    "\n",
    "#check 5 is present in a given list\n"
   ]
  },
  {
   "cell_type": "code",
   "execution_count": null,
   "metadata": {
    "id": "DRSQ_NeiSgC9",
    "outputId": "fccc2f02-6db9-469b-97c4-244ba07d65b9"
   },
   "outputs": [
    {
     "name": "stdout",
     "output_type": "stream",
     "text": [
      "True\n",
      "False\n"
     ]
    }
   ],
   "source": [
    "d = {1: \"a\", 2: \"b\"}\n",
    "print(1 in d)\n",
    "print(\"a\" in d)"
   ]
  }
 ],
 "metadata": {
  "colab": {
   "name": "1-7 Operators.ipynb",
   "provenance": []
  },
  "kernelspec": {
   "display_name": "Python 3 (ipykernel)",
   "language": "python",
   "name": "python3"
  },
  "language_info": {
   "codemirror_mode": {
    "name": "ipython",
    "version": 3
   },
   "file_extension": ".py",
   "mimetype": "text/x-python",
   "name": "python",
   "nbconvert_exporter": "python",
   "pygments_lexer": "ipython3",
   "version": "3.9.7"
  }
 },
 "nbformat": 4,
 "nbformat_minor": 1
}
