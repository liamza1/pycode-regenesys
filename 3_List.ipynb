{
 "cells": [
  {
   "cell_type": "code",
   "execution_count": null,
   "metadata": {
    "id": "HDn7sIBdzOS_"
   },
   "outputs": [],
   "source": [
    "v1=66\n",
    "v2=61\n",
    "v3=72\n",
    "v4=77\n",
    "v5=80\n",
    "v6=88"
   ]
  },
  {
   "cell_type": "code",
   "execution_count": null,
   "metadata": {
    "colab": {
     "base_uri": "https://localhost:8080/"
    },
    "id": "hZVCDn5lO-cJ",
    "outputId": "ac7a3060-f068-4c74-e397-959266270297"
   },
   "outputs": [
    {
     "data": {
      "text/plain": [
       "[66, 61, 72, 77, 80, 88]"
      ]
     },
     "execution_count": 11,
     "metadata": {},
     "output_type": "execute_result"
    }
   ],
   "source": [
    "lst1=[66,61,72,77,80,88]\n",
    "lst1"
   ]
  },
  {
   "cell_type": "code",
   "execution_count": null,
   "metadata": {
    "colab": {
     "base_uri": "https://localhost:8080/"
    },
    "id": "2CQroqgeO-cK",
    "outputId": "5848f5ea-1872-4878-8d80-e36f0c7f91c3"
   },
   "outputs": [
    {
     "data": {
      "text/plain": [
       "[7.8, 4.7, 8.4, 5.7]"
      ]
     },
     "execution_count": 12,
     "metadata": {},
     "output_type": "execute_result"
    }
   ],
   "source": [
    "l2=[7.8,4.7,8.4,5.7]\n",
    "l2"
   ]
  },
  {
   "cell_type": "code",
   "execution_count": null,
   "metadata": {
    "colab": {
     "base_uri": "https://localhost:8080/"
    },
    "id": "Bwl0j58xO-cL",
    "outputId": "96f6e5b7-3e2e-4f0a-e54a-a0c8f4c5ed17"
   },
   "outputs": [
    {
     "data": {
      "text/plain": [
       "['Asia', 'Africa', 'Europe', 'North America', 'South America', 'Australia']"
      ]
     },
     "execution_count": 10,
     "metadata": {},
     "output_type": "execute_result"
    }
   ],
   "source": [
    "continents=[\"Asia\",\"Africa\",'Europe','North America','South America','Australia']\n",
    "continents"
   ]
  },
  {
   "cell_type": "code",
   "execution_count": null,
   "metadata": {
    "colab": {
     "base_uri": "https://localhost:8080/"
    },
    "id": "GM9AR-UUzOTH",
    "outputId": "cd272e24-1d6e-4c6a-9949-9d9c5cb9cd38"
   },
   "outputs": [
    {
     "data": {
      "text/plain": [
       "[True, True, False, True]"
      ]
     },
     "execution_count": 14,
     "metadata": {},
     "output_type": "execute_result"
    }
   ],
   "source": [
    "lst=[True,True,False,True]\n",
    "lst"
   ]
  },
  {
   "cell_type": "code",
   "execution_count": null,
   "metadata": {
    "colab": {
     "base_uri": "https://localhost:8080/"
    },
    "id": "1I2Z5pVoWfyZ",
    "outputId": "0cdfe722-73a9-46a7-bd29-c9320e2a158e"
   },
   "outputs": [
    {
     "data": {
      "text/plain": [
       "[30, 175.5, 'INDIA']"
      ]
     },
     "execution_count": 3,
     "metadata": {},
     "output_type": "execute_result"
    }
   ],
   "source": [
    "lst=[30,175.5,\"INDIA\"]\n",
    "lst"
   ]
  },
  {
   "cell_type": "code",
   "execution_count": null,
   "metadata": {
    "colab": {
     "base_uri": "https://localhost:8080/"
    },
    "id": "jHMeHxsODYZg",
    "outputId": "e6c9114c-5341-499a-dd22-eac4f1867fe8"
   },
   "outputs": [
    {
     "data": {
      "text/plain": [
       "[30, 174.5, 'nilay', 'DS consultant']"
      ]
     },
     "execution_count": 15,
     "metadata": {},
     "output_type": "execute_result"
    }
   ],
   "source": [
    "#creating list from existing variables\n",
    "age=30\n",
    "height=174.5\n",
    "name=\"nilay\"\n",
    "designation=\"DS consultant\"\n",
    "person=[age,height,name,designation]\n",
    "person"
   ]
  },
  {
   "cell_type": "code",
   "execution_count": null,
   "metadata": {
    "colab": {
     "base_uri": "https://localhost:8080/"
    },
    "id": "FNUkc6C4O-cM",
    "outputId": "399818fd-c9fa-4a34-84d5-d9737316b2b4"
   },
   "outputs": [
    {
     "name": "stdout",
     "output_type": "stream",
     "text": [
      "[1, 3, 5, 7, 9]\n",
      "[2, 4, 6, 8, 10]\n"
     ]
    }
   ],
   "source": [
    "#create two separate lists of first five odd and even numbers \n",
    "odd=[1,3,5,7,9]\n",
    "print(odd)\n",
    "even=[2,4,6,8,10]\n",
    "print(even)"
   ]
  },
  {
   "cell_type": "code",
   "execution_count": null,
   "metadata": {
    "colab": {
     "base_uri": "https://localhost:8080/"
    },
    "id": "nanAWu3PC-yn",
    "outputId": "30258468-3793-4a08-c345-877845d273ff"
   },
   "outputs": [
    {
     "data": {
      "text/plain": [
       "[[1, 3, 5, 7, 9], [2, 4, 6, 8, 10]]"
      ]
     },
     "execution_count": 5,
     "metadata": {},
     "output_type": "execute_result"
    }
   ],
   "source": [
    "#nested list\n",
    "numbers=[\n",
    "         [1, 3, 5, 7, 9],\n",
    "         [2, 4, 6, 8, 10]\n",
    "        ]\n",
    "\n",
    "numbers"
   ]
  },
  {
   "cell_type": "code",
   "execution_count": null,
   "metadata": {
    "colab": {
     "base_uri": "https://localhost:8080/"
    },
    "id": "uSTOE4XQO-cN",
    "outputId": "5e659b77-070d-44f6-c0b1-39d3282cbff7"
   },
   "outputs": [
    {
     "data": {
      "text/plain": [
       "[60, 1.2, 'Johansburg']"
      ]
     },
     "execution_count": 6,
     "metadata": {},
     "output_type": "execute_result"
    }
   ],
   "source": [
    "# south_africa- population in millions, area in km square millions, capital city\n",
    "south_africa=[60,1.2,\"Johansburg\"]\n",
    "south_africa\n"
   ]
  },
  {
   "cell_type": "code",
   "execution_count": null,
   "metadata": {
    "id": "GKoQfkfBzOTJ"
   },
   "outputs": [],
   "source": [
    "#Task 1 - create nested list of countries with population in millions, area in km square millions, capital city\n",
    "countries=[[],[],[]]"
   ]
  },
  {
   "cell_type": "code",
   "execution_count": null,
   "metadata": {
    "colab": {
     "base_uri": "https://localhost:8080/"
    },
    "id": "yJkidYlcEKyr",
    "outputId": "4cfaf8d0-37d8-46f1-d696-86bd7833af40"
   },
   "outputs": [
    {
     "data": {
      "text/plain": [
       "[]"
      ]
     },
     "execution_count": 20,
     "metadata": {},
     "output_type": "execute_result"
    }
   ],
   "source": [
    "lst=list()\n",
    "lst"
   ]
  },
  {
   "cell_type": "code",
   "execution_count": null,
   "metadata": {
    "colab": {
     "base_uri": "https://localhost:8080/"
    },
    "id": "0uhBwKILERUB",
    "outputId": "8930ec3d-b04a-4b44-d9de-e009c87782b2"
   },
   "outputs": [
    {
     "data": {
      "text/plain": [
       "[2, 5, 1, 9, 6]"
      ]
     },
     "execution_count": 21,
     "metadata": {},
     "output_type": "execute_result"
    }
   ],
   "source": [
    "lst=list([2,5,1,9,6])\n",
    "lst"
   ]
  },
  {
   "cell_type": "code",
   "execution_count": null,
   "metadata": {
    "colab": {
     "base_uri": "https://localhost:8080/"
    },
    "id": "X2Iz91KQEcSv",
    "outputId": "337e3f53-8f3d-4844-a2cf-bc8a7cc05851"
   },
   "outputs": [
    {
     "data": {
      "text/plain": [
       "[2, 5, 1, 9, 6]"
      ]
     },
     "execution_count": 22,
     "metadata": {},
     "output_type": "execute_result"
    }
   ],
   "source": [
    "#creating list from a tuple\n",
    "lst=list((2,5,1,9,6))\n",
    "lst"
   ]
  },
  {
   "cell_type": "markdown",
   "metadata": {
    "id": "-seyfGjzSTQZ"
   },
   "source": [
    "Indexing"
   ]
  },
  {
   "cell_type": "code",
   "execution_count": null,
   "metadata": {
    "id": "BSZ_ZHC7TIQV"
   },
   "outputs": [],
   "source": [
    "l2=[7.8, 9.77, 88.4, 98.7]"
   ]
  },
  {
   "cell_type": "code",
   "execution_count": null,
   "metadata": {
    "colab": {
     "base_uri": "https://localhost:8080/"
    },
    "id": "JZd_o9g9O-cO",
    "outputId": "bd014c7a-6131-4e22-b827-c7dab56c58af"
   },
   "outputs": [
    {
     "data": {
      "text/plain": [
       "7.8"
      ]
     },
     "execution_count": 8,
     "metadata": {},
     "output_type": "execute_result"
    }
   ],
   "source": [
    "l2[0]"
   ]
  },
  {
   "cell_type": "code",
   "execution_count": null,
   "metadata": {
    "colab": {
     "base_uri": "https://localhost:8080/"
    },
    "id": "ENzO5MVxO-cP",
    "outputId": "90890f26-c0bb-4930-c497-cc15e9081e96"
   },
   "outputs": [
    {
     "data": {
      "text/plain": [
       "98.7"
      ]
     },
     "execution_count": 25,
     "metadata": {},
     "output_type": "execute_result"
    }
   ],
   "source": [
    "l2[3]"
   ]
  },
  {
   "cell_type": "code",
   "execution_count": null,
   "metadata": {
    "colab": {
     "base_uri": "https://localhost:8080/"
    },
    "id": "-tBW_zv4O-cQ",
    "outputId": "2335ee2a-039f-4c96-f8b4-f4f04bf9c861"
   },
   "outputs": [
    {
     "data": {
      "text/plain": [
       "[7.8, 9.77, 88.4, 98.7]"
      ]
     },
     "execution_count": 26,
     "metadata": {},
     "output_type": "execute_result"
    }
   ],
   "source": [
    "l2"
   ]
  },
  {
   "cell_type": "code",
   "execution_count": null,
   "metadata": {
    "colab": {
     "base_uri": "https://localhost:8080/"
    },
    "id": "oor1h-TsO-cR",
    "outputId": "7df8d5a2-b391-4515-bd09-6e2cd0121671"
   },
   "outputs": [
    {
     "data": {
      "text/plain": [
       "98.7"
      ]
     },
     "execution_count": 27,
     "metadata": {},
     "output_type": "execute_result"
    }
   ],
   "source": [
    "l2[3]"
   ]
  },
  {
   "cell_type": "code",
   "execution_count": null,
   "metadata": {
    "colab": {
     "base_uri": "https://localhost:8080/"
    },
    "id": "BYZecz3DO-cR",
    "outputId": "d343ef74-7aa1-4986-d173-162385b30720"
   },
   "outputs": [
    {
     "data": {
      "text/plain": [
       "98.7"
      ]
     },
     "execution_count": 28,
     "metadata": {},
     "output_type": "execute_result"
    }
   ],
   "source": [
    "l2[-1]"
   ]
  },
  {
   "cell_type": "code",
   "execution_count": null,
   "metadata": {
    "colab": {
     "base_uri": "https://localhost:8080/"
    },
    "id": "vQxX34O1O-cR",
    "outputId": "8d3ee9bb-c88f-4c30-f597-5c6feb0fd60f"
   },
   "outputs": [
    {
     "data": {
      "text/plain": [
       "88.4"
      ]
     },
     "execution_count": 29,
     "metadata": {},
     "output_type": "execute_result"
    }
   ],
   "source": [
    "l2[-2]"
   ]
  },
  {
   "cell_type": "markdown",
   "metadata": {
    "id": "BqtmaxjtUHyi"
   },
   "source": [
    "Functions in list"
   ]
  },
  {
   "cell_type": "code",
   "execution_count": null,
   "metadata": {
    "colab": {
     "base_uri": "https://localhost:8080/"
    },
    "id": "nIzDqDTEUPxb",
    "outputId": "b42eb822-091c-4479-e501-3a6a3111d939"
   },
   "outputs": [
    {
     "data": {
      "text/plain": [
       "['Asia', 'Africa', 'Europe', 'North America', 'South America', 'Australia']"
      ]
     },
     "execution_count": 11,
     "metadata": {},
     "output_type": "execute_result"
    }
   ],
   "source": [
    "continents"
   ]
  },
  {
   "cell_type": "code",
   "execution_count": null,
   "metadata": {
    "id": "jAxcstaFO-cS"
   },
   "outputs": [],
   "source": [
    "continents.append(\"Zealandia\")"
   ]
  },
  {
   "cell_type": "code",
   "execution_count": null,
   "metadata": {
    "colab": {
     "base_uri": "https://localhost:8080/"
    },
    "id": "k2Dd2Xs8O-cS",
    "outputId": "a0719b19-3a48-4a5b-eece-5323d7cb09a3"
   },
   "outputs": [
    {
     "data": {
      "text/plain": [
       "['Asia',\n",
       " 'Africa',\n",
       " 'Europe',\n",
       " 'North America',\n",
       " 'South America',\n",
       " 'Australia',\n",
       " 'Zealandia']"
      ]
     },
     "execution_count": 16,
     "metadata": {},
     "output_type": "execute_result"
    }
   ],
   "source": [
    "continents"
   ]
  },
  {
   "cell_type": "code",
   "execution_count": null,
   "metadata": {
    "id": "059CoZqLclsC"
   },
   "outputs": [],
   "source": [
    "# odd list - append next odd number in odd number list\n",
    "print(odd)\n",
    "odd.append(11)\n",
    "print(odd)"
   ]
  },
  {
   "cell_type": "code",
   "execution_count": null,
   "metadata": {
    "id": "npUcXaKeO-cS"
   },
   "outputs": [],
   "source": [
    "continents.insert(2,\"X1\")"
   ]
  },
  {
   "cell_type": "code",
   "execution_count": null,
   "metadata": {
    "colab": {
     "base_uri": "https://localhost:8080/"
    },
    "id": "twXWWMGdO-cT",
    "outputId": "66d9b392-31ef-4458-f175-ec0e2eb53bea"
   },
   "outputs": [
    {
     "data": {
      "text/plain": [
       "['Asia',\n",
       " 'Africa',\n",
       " 'X1',\n",
       " 'Europe',\n",
       " 'North America',\n",
       " 'South America',\n",
       " 'Australia',\n",
       " 'Zealandia']"
      ]
     },
     "execution_count": 18,
     "metadata": {},
     "output_type": "execute_result"
    }
   ],
   "source": [
    "continents"
   ]
  },
  {
   "cell_type": "code",
   "execution_count": null,
   "metadata": {
    "colab": {
     "base_uri": "https://localhost:8080/"
    },
    "id": "XN68eYz8O-cU",
    "outputId": "f4e0d816-a36b-4f45-8192-5f53b62d77c9",
    "scrolled": true
   },
   "outputs": [
    {
     "data": {
      "text/plain": [
       "['Asia',\n",
       " 'Africa',\n",
       " 'Europe',\n",
       " 'North America',\n",
       " 'South America',\n",
       " 'Australia',\n",
       " 'Zealandia']"
      ]
     },
     "execution_count": 35,
     "metadata": {},
     "output_type": "execute_result"
    }
   ],
   "source": [
    "continents.remove('X1')\n",
    "continents"
   ]
  },
  {
   "cell_type": "code",
   "execution_count": null,
   "metadata": {
    "colab": {
     "base_uri": "https://localhost:8080/"
    },
    "id": "KVDUoqWRzOTQ",
    "outputId": "3a947128-a056-4fc8-b2c9-b7671db980af"
   },
   "outputs": [
    {
     "data": {
      "text/plain": [
       "7"
      ]
     },
     "execution_count": 36,
     "metadata": {},
     "output_type": "execute_result"
    }
   ],
   "source": [
    "len(continents)"
   ]
  },
  {
   "cell_type": "code",
   "execution_count": null,
   "metadata": {
    "id": "atmuLlUOVk69"
   },
   "outputs": [],
   "source": [
    "#combining two lists\n",
    "l1=[3,5,7,9]\n",
    "l2=[2,4,6,8]"
   ]
  },
  {
   "cell_type": "code",
   "execution_count": null,
   "metadata": {
    "colab": {
     "base_uri": "https://localhost:8080/"
    },
    "id": "eQZsTAzbO-cW",
    "outputId": "bc5754a4-d04c-43ee-9e72-6028ac4d6162"
   },
   "outputs": [
    {
     "data": {
      "text/plain": [
       "[3, 5, 7, 9, 2, 4, 6, 8]"
      ]
     },
     "execution_count": 38,
     "metadata": {},
     "output_type": "execute_result"
    }
   ],
   "source": [
    "l1.extend(l2)\n",
    "l1"
   ]
  },
  {
   "cell_type": "code",
   "execution_count": null,
   "metadata": {
    "colab": {
     "base_uri": "https://localhost:8080/"
    },
    "id": "mzxS9xQOePPQ",
    "outputId": "8ac1a409-2117-414e-cbbe-3507a65f7047"
   },
   "outputs": [
    {
     "data": {
      "text/plain": [
       "5"
      ]
     },
     "execution_count": 20,
     "metadata": {},
     "output_type": "execute_result"
    }
   ],
   "source": [
    "odd[2]"
   ]
  },
  {
   "cell_type": "code",
   "execution_count": null,
   "metadata": {
    "id": "Yg6KQEaBK_5L"
   },
   "outputs": [],
   "source": [
    "#2 dimensional list / nested list\n",
    "#indexing in 2D list\n",
    "lst=[\n",
    "     [3,5,7,9],\n",
    "     [2,4,6,8]\n",
    "    ]"
   ]
  },
  {
   "cell_type": "code",
   "execution_count": null,
   "metadata": {
    "colab": {
     "base_uri": "https://localhost:8080/"
    },
    "id": "UtYtUm-LenDR",
    "outputId": "d4376a21-2221-4ffd-f3dd-26a00d914601"
   },
   "outputs": [
    {
     "data": {
      "text/plain": [
       "[3, 5, 7, 9]"
      ]
     },
     "execution_count": 24,
     "metadata": {},
     "output_type": "execute_result"
    }
   ],
   "source": [
    "lst[0]"
   ]
  },
  {
   "cell_type": "code",
   "execution_count": null,
   "metadata": {
    "colab": {
     "base_uri": "https://localhost:8080/"
    },
    "id": "joJKoAQhezkY",
    "outputId": "eb0b058a-dbfa-4845-805d-5fb928b7bc57"
   },
   "outputs": [
    {
     "data": {
      "text/plain": [
       "3"
      ]
     },
     "execution_count": 25,
     "metadata": {},
     "output_type": "execute_result"
    }
   ],
   "source": [
    "lst[0][0]"
   ]
  },
  {
   "cell_type": "code",
   "execution_count": null,
   "metadata": {
    "id": "NOVVIYxXLRi1"
   },
   "outputs": [],
   "source": []
  },
  {
   "cell_type": "code",
   "execution_count": null,
   "metadata": {
    "id": "KfC9f90FW4co"
   },
   "outputs": [],
   "source": []
  },
  {
   "cell_type": "code",
   "execution_count": null,
   "metadata": {
    "id": "NsbQ8pzGWsrh"
   },
   "outputs": [],
   "source": [
    "# Task -  repeat all abv operations on  list of float numbers"
   ]
  },
  {
   "cell_type": "code",
   "execution_count": null,
   "metadata": {
    "id": "ICgZvFL7WpM9"
   },
   "outputs": [],
   "source": [
    "#sorting"
   ]
  },
  {
   "cell_type": "code",
   "execution_count": null,
   "metadata": {
    "id": "GTDxYuv4O-cY"
   },
   "outputs": [],
   "source": [
    "l6=[2,88,4,333,12,54,89]"
   ]
  },
  {
   "cell_type": "code",
   "execution_count": null,
   "metadata": {
    "id": "8GAFzSLPO-cY"
   },
   "outputs": [],
   "source": [
    "l6.sort()"
   ]
  },
  {
   "cell_type": "code",
   "execution_count": null,
   "metadata": {
    "colab": {
     "base_uri": "https://localhost:8080/"
    },
    "id": "H5xx-2mCO-cY",
    "outputId": "74531355-adc0-4ef9-e8ef-4881b236332f"
   },
   "outputs": [
    {
     "data": {
      "text/plain": [
       "[2, 4, 12, 54, 88, 89, 333]"
      ]
     },
     "execution_count": 43,
     "metadata": {},
     "output_type": "execute_result"
    }
   ],
   "source": [
    "l6"
   ]
  },
  {
   "cell_type": "code",
   "execution_count": null,
   "metadata": {
    "colab": {
     "base_uri": "https://localhost:8080/"
    },
    "id": "X7z1LChZXG-J",
    "outputId": "c00508f5-6b4c-4893-e663-6d6e5f29a5c2"
   },
   "outputs": [
    {
     "data": {
      "text/plain": [
       "[333, 89, 88, 54, 12, 4, 2]"
      ]
     },
     "execution_count": 44,
     "metadata": {},
     "output_type": "execute_result"
    }
   ],
   "source": [
    "l6.sort(reverse=True)\n",
    "l6"
   ]
  },
  {
   "cell_type": "code",
   "execution_count": null,
   "metadata": {
    "id": "fOgZh9BZgKkv"
   },
   "outputs": [],
   "source": [
    "#odd list - 6 values , sort odd list in decending order"
   ]
  },
  {
   "cell_type": "code",
   "execution_count": null,
   "metadata": {
    "id": "MJVLqjj4FJ0B"
   },
   "outputs": [],
   "source": [
    "#Task\n",
    "#print continent list\n",
    "#sort continent list\n",
    "#print continent list\n"
   ]
  },
  {
   "cell_type": "code",
   "execution_count": null,
   "metadata": {
    "colab": {
     "base_uri": "https://localhost:8080/"
    },
    "id": "LFqlbIGKO-cZ",
    "outputId": "c72409eb-778a-41f5-bd56-d39eb163f01a"
   },
   "outputs": [
    {
     "name": "stdout",
     "output_type": "stream",
     "text": [
      "[22, 188, 74, 33, 102, 554, 89]\n",
      "[89, 554, 102, 33, 74, 188, 22]\n"
     ]
    }
   ],
   "source": [
    "l7=[22,188,74,33,102,554,89]\n",
    "print(l7)\n",
    "l7.reverse()\n",
    "print(l7)\n",
    "#reverse odd number list"
   ]
  },
  {
   "cell_type": "code",
   "execution_count": null,
   "metadata": {
    "colab": {
     "base_uri": "https://localhost:8080/"
    },
    "id": "DZO0q0rUh2sL",
    "outputId": "4a760220-037a-4635-be6c-dee06f8a2da9"
   },
   "outputs": [
    {
     "name": "stdout",
     "output_type": "stream",
     "text": [
      "None\n"
     ]
    },
    {
     "data": {
      "text/plain": [
       "NoneType"
      ]
     },
     "execution_count": 31,
     "metadata": {},
     "output_type": "execute_result"
    }
   ],
   "source": [
    "x=l7.sort()\n",
    "print(x)\n",
    "type(x)"
   ]
  },
  {
   "cell_type": "code",
   "execution_count": null,
   "metadata": {
    "colab": {
     "base_uri": "https://localhost:8080/"
    },
    "id": "fHsYtLpYhwSu",
    "outputId": "a3bfbc28-e4ce-4372-abb4-8944218077d8"
   },
   "outputs": [
    {
     "data": {
      "text/plain": [
       "NoneType"
      ]
     },
     "execution_count": 30,
     "metadata": {},
     "output_type": "execute_result"
    }
   ],
   "source": [
    "type(l7.sort())"
   ]
  },
  {
   "cell_type": "code",
   "execution_count": null,
   "metadata": {
    "colab": {
     "base_uri": "https://localhost:8080/"
    },
    "id": "fvW2Og0rhp2T",
    "outputId": "ffb8d349-0a49-4a42-8007-9811b50613d2"
   },
   "outputs": [
    {
     "name": "stdout",
     "output_type": "stream",
     "text": [
      "None\n"
     ]
    }
   ],
   "source": [
    "print(l7.sort())"
   ]
  },
  {
   "cell_type": "code",
   "execution_count": null,
   "metadata": {
    "id": "P2IA4BlObvFf"
   },
   "outputs": [],
   "source": [
    "#index slicing\n",
    "#list-var[start_index:end_index:step_size]"
   ]
  },
  {
   "cell_type": "code",
   "execution_count": null,
   "metadata": {
    "colab": {
     "base_uri": "https://localhost:8080/"
    },
    "id": "YiDYEr4YO-cg",
    "outputId": "968d10a7-a813-4b8d-983e-cfa849e5c531"
   },
   "outputs": [
    {
     "data": {
      "text/plain": [
       "[1, 9, 3]"
      ]
     },
     "execution_count": 32,
     "metadata": {},
     "output_type": "execute_result"
    }
   ],
   "source": [
    "numbers=[3,7,1,9,3,6,88,22,12,79,28]\n",
    "numbers[2:5]"
   ]
  },
  {
   "cell_type": "code",
   "execution_count": null,
   "metadata": {
    "colab": {
     "base_uri": "https://localhost:8080/"
    },
    "id": "3cuFpW_FO-ch",
    "outputId": "b9a21f32-223b-4d3e-afad-7377d04b1a3e"
   },
   "outputs": [
    {
     "data": {
      "text/plain": [
       "[3, 7, 1, 9, 3, 6]"
      ]
     },
     "execution_count": 50,
     "metadata": {},
     "output_type": "execute_result"
    }
   ],
   "source": [
    "numbers[0:6]"
   ]
  },
  {
   "cell_type": "code",
   "execution_count": null,
   "metadata": {
    "colab": {
     "base_uri": "https://localhost:8080/"
    },
    "id": "_2F9FEr5a_w0",
    "outputId": "3e5148d1-199e-462a-c341-2ab024dc7a06"
   },
   "outputs": [
    {
     "data": {
      "text/plain": [
       "[3, 7, 1, 9, 3, 6]"
      ]
     },
     "execution_count": 33,
     "metadata": {},
     "output_type": "execute_result"
    }
   ],
   "source": [
    "numbers[:6]"
   ]
  },
  {
   "cell_type": "code",
   "execution_count": null,
   "metadata": {
    "colab": {
     "base_uri": "https://localhost:8080/"
    },
    "id": "8jZyzabGHV23",
    "outputId": "938db496-e255-45f0-96c9-e3c4816b7e36"
   },
   "outputs": [
    {
     "data": {
      "text/plain": [
       "11"
      ]
     },
     "execution_count": 54,
     "metadata": {},
     "output_type": "execute_result"
    }
   ],
   "source": [
    "len(numbers)"
   ]
  },
  {
   "cell_type": "code",
   "execution_count": null,
   "metadata": {
    "colab": {
     "base_uri": "https://localhost:8080/"
    },
    "id": "KuF49xDYHJxB",
    "outputId": "f28bec34-4adb-4742-f6fb-cfa21653c111"
   },
   "outputs": [
    {
     "data": {
      "text/plain": [
       "[3, 6, 88, 22, 12, 79, 28]"
      ]
     },
     "execution_count": 55,
     "metadata": {},
     "output_type": "execute_result"
    }
   ],
   "source": [
    "numbers[4:11]"
   ]
  },
  {
   "cell_type": "code",
   "execution_count": null,
   "metadata": {
    "colab": {
     "base_uri": "https://localhost:8080/"
    },
    "id": "qBpvlSJvHZxV",
    "outputId": "f5c777e9-b7d1-4140-abd6-4b38be871ea0"
   },
   "outputs": [
    {
     "data": {
      "text/plain": [
       "[3, 6, 88, 22, 12, 79, 28]"
      ]
     },
     "execution_count": 34,
     "metadata": {},
     "output_type": "execute_result"
    }
   ],
   "source": [
    "numbers[4:]"
   ]
  },
  {
   "cell_type": "code",
   "execution_count": null,
   "metadata": {
    "id": "GZzlsnkNO-cl"
   },
   "outputs": [],
   "source": [
    "#how to modify values in list"
   ]
  },
  {
   "cell_type": "code",
   "execution_count": null,
   "metadata": {
    "colab": {
     "base_uri": "https://localhost:8080/"
    },
    "id": "8r31jhbfO-cl",
    "outputId": "8c03c01e-5ddf-47cf-d374-c788708552be",
    "scrolled": true
   },
   "outputs": [
    {
     "data": {
      "text/plain": [
       "[3, 5, 7, 9, 2, 4, 6, 8]"
      ]
     },
     "execution_count": 35,
     "metadata": {},
     "output_type": "execute_result"
    }
   ],
   "source": [
    "numbers=[3, 5, 7, 9, 2, 4, 6, 8]\n",
    "numbers"
   ]
  },
  {
   "cell_type": "code",
   "execution_count": null,
   "metadata": {
    "colab": {
     "base_uri": "https://localhost:8080/"
    },
    "id": "LCD6SK9rzOTT",
    "outputId": "5bb6582a-3fcf-4f4f-9a18-360e2bf03bc5"
   },
   "outputs": [
    {
     "data": {
      "text/plain": [
       "[111, 5, 7, 9, 2, 4, 6, 8]"
      ]
     },
     "execution_count": 36,
     "metadata": {},
     "output_type": "execute_result"
    }
   ],
   "source": [
    "numbers[0]=111\n",
    "numbers"
   ]
  },
  {
   "cell_type": "code",
   "execution_count": null,
   "metadata": {
    "colab": {
     "base_uri": "https://localhost:8080/"
    },
    "id": "vebkRqa7O-cl",
    "outputId": "edaef80c-f92b-4658-ddd0-fd79a03ef192"
   },
   "outputs": [
    {
     "data": {
      "text/plain": [
       "[112, 5, 7, 9, 2, 4, 6, 8]"
      ]
     },
     "execution_count": 37,
     "metadata": {},
     "output_type": "execute_result"
    }
   ],
   "source": [
    "numbers[0] =numbers[0] +1\n",
    "numbers"
   ]
  },
  {
   "cell_type": "code",
   "execution_count": null,
   "metadata": {
    "id": "1jpH5S1LO-cm",
    "outputId": "0b092828-814b-4fe6-ad82-fed5f455c429"
   },
   "outputs": [
    {
     "data": {
      "text/plain": [
       "[4, 25, 7, 9, 2, 4, 6, 8]"
      ]
     },
     "execution_count": 30,
     "metadata": {},
     "output_type": "execute_result"
    }
   ],
   "source": [
    "numbers[1] =numbers[1] **2\n",
    "numbers"
   ]
  },
  {
   "cell_type": "code",
   "execution_count": null,
   "metadata": {
    "id": "qrUwqq7AO-cm",
    "outputId": "9009f2ef-9c9f-47ff-cd0c-ba4bc0ca1826"
   },
   "outputs": [
    {
     "data": {
      "text/plain": [
       "[4, 25, 7, 11, 2, 4, 6, 8]"
      ]
     },
     "execution_count": 31,
     "metadata": {},
     "output_type": "execute_result"
    }
   ],
   "source": [
    "numbers[3] =numbers[0] +numbers[2] \n",
    "numbers"
   ]
  },
  {
   "cell_type": "code",
   "execution_count": null,
   "metadata": {
    "colab": {
     "base_uri": "https://localhost:8080/"
    },
    "id": "D4wUAeNozOTW",
    "outputId": "2fb813ae-f153-4846-b27b-eebfcac6bf6d"
   },
   "outputs": [
    {
     "data": {
      "text/plain": [
       "['Asia',\n",
       " 'Africa',\n",
       " 'X1',\n",
       " 'Europe',\n",
       " 'North America',\n",
       " 'South America',\n",
       " 'Australia',\n",
       " 'Zealandia']"
      ]
     },
     "execution_count": 40,
     "metadata": {},
     "output_type": "execute_result"
    }
   ],
   "source": [
    "continents"
   ]
  },
  {
   "cell_type": "code",
   "execution_count": null,
   "metadata": {
    "colab": {
     "base_uri": "https://localhost:8080/"
    },
    "id": "QJtTAfcfH9M0",
    "outputId": "4e7b5e7e-43ab-4571-8bc7-b61549dc5c80"
   },
   "outputs": [
    {
     "data": {
      "text/plain": [
       "list"
      ]
     },
     "execution_count": 41,
     "metadata": {},
     "output_type": "execute_result"
    }
   ],
   "source": [
    "type(continents)"
   ]
  },
  {
   "cell_type": "code",
   "execution_count": null,
   "metadata": {
    "colab": {
     "base_uri": "https://localhost:8080/",
     "height": 35
    },
    "id": "HFIj3gMqH418",
    "outputId": "27734229-bb41-4b6f-e68c-7275e076ccda"
   },
   "outputs": [
    {
     "data": {
      "application/vnd.google.colaboratory.intrinsic+json": {
       "type": "string"
      },
      "text/plain": [
       "'Asia'"
      ]
     },
     "execution_count": 42,
     "metadata": {},
     "output_type": "execute_result"
    }
   ],
   "source": [
    "continents[0]"
   ]
  },
  {
   "cell_type": "code",
   "execution_count": null,
   "metadata": {
    "colab": {
     "base_uri": "https://localhost:8080/"
    },
    "id": "Xui_uqCYH_vs",
    "outputId": "8bdba01d-9583-4b95-e1d8-5ca6cec5c764"
   },
   "outputs": [
    {
     "data": {
      "text/plain": [
       "str"
      ]
     },
     "execution_count": 43,
     "metadata": {},
     "output_type": "execute_result"
    }
   ],
   "source": [
    "type(continents[0])"
   ]
  },
  {
   "cell_type": "code",
   "execution_count": null,
   "metadata": {
    "colab": {
     "base_uri": "https://localhost:8080/",
     "height": 35
    },
    "id": "QFwNwo2nICic",
    "outputId": "26bd08f3-17c6-410a-c500-ab9547583bde"
   },
   "outputs": [
    {
     "data": {
      "application/vnd.google.colaboratory.intrinsic+json": {
       "type": "string"
      },
      "text/plain": [
       "'ASIA'"
      ]
     },
     "execution_count": 44,
     "metadata": {},
     "output_type": "execute_result"
    }
   ],
   "source": [
    "continents[0].upper()"
   ]
  },
  {
   "cell_type": "code",
   "execution_count": null,
   "metadata": {
    "id": "cWfKJAEgkaf4"
   },
   "outputs": [],
   "source": [
    "continents[0]=continents[0].upper()"
   ]
  },
  {
   "cell_type": "code",
   "execution_count": null,
   "metadata": {
    "colab": {
     "base_uri": "https://localhost:8080/"
    },
    "id": "Iw37nggNIHKv",
    "outputId": "a95392c1-5b8c-4551-9266-ceeefd289955"
   },
   "outputs": [
    {
     "data": {
      "text/plain": [
       "['ASIA',\n",
       " 'Africa',\n",
       " 'X1',\n",
       " 'Europe',\n",
       " 'North America',\n",
       " 'South America',\n",
       " 'Australia',\n",
       " 'Zealandia']"
      ]
     },
     "execution_count": 47,
     "metadata": {},
     "output_type": "execute_result"
    }
   ],
   "source": [
    "continents"
   ]
  },
  {
   "cell_type": "code",
   "execution_count": null,
   "metadata": {
    "colab": {
     "base_uri": "https://localhost:8080/"
    },
    "id": "UGUrdZV5II-f",
    "outputId": "1504afac-c9a9-4656-ec16-fc5ba15dd9de"
   },
   "outputs": [
    {
     "data": {
      "text/plain": [
       "['AFRICA',\n",
       " 'Asia',\n",
       " 'Australia',\n",
       " 'Europe',\n",
       " 'North America',\n",
       " 'South America',\n",
       " 'Zealandia']"
      ]
     },
     "execution_count": 62,
     "metadata": {},
     "output_type": "execute_result"
    }
   ],
   "source": []
  },
  {
   "cell_type": "code",
   "execution_count": null,
   "metadata": {
    "id": "rsKmh_-HIN83"
   },
   "outputs": [],
   "source": [
    "#Task : convert other continents to upper case"
   ]
  },
  {
   "cell_type": "code",
   "execution_count": null,
   "metadata": {
    "id": "fkvDnKpntmHr"
   },
   "outputs": [],
   "source": [
    "!pip install forex_python "
   ]
  },
  {
   "cell_type": "code",
   "execution_count": null,
   "metadata": {
    "colab": {
     "base_uri": "https://localhost:8080/"
    },
    "id": "i3VLr3Xqthw1",
    "outputId": "10614d9e-1e43-45ea-8864-074fc9c790af"
   },
   "outputs": [
    {
     "name": "stdout",
     "output_type": "stream",
     "text": [
      "rand to usd 0.058161841646320184\n",
      "rand to inr 4.654993605394721\n"
     ]
    }
   ],
   "source": [
    "from forex_python.converter import CurrencyRates\n",
    "\n",
    "c = CurrencyRates()\n",
    "\n",
    "rand_usd=c.get_rate('ZAR', 'USD')\n",
    "print(\"rand to usd\",rand_usd)\n",
    "\n",
    "rand_inr=c.get_rate('ZAR', 'INR')\n",
    "print(\"rand to inr\",rand_inr)"
   ]
  },
  {
   "cell_type": "code",
   "execution_count": null,
   "metadata": {
    "id": "TPPSJMaEuNMv"
   },
   "outputs": [],
   "source": [
    "lst=[0.05,4.6,....]"
   ]
  }
 ],
 "metadata": {
  "colab": {
   "name": "3 List.ipynb",
   "provenance": []
  },
  "kernelspec": {
   "display_name": "Python 3 (ipykernel)",
   "language": "python",
   "name": "python3"
  },
  "language_info": {
   "codemirror_mode": {
    "name": "ipython",
    "version": 3
   },
   "file_extension": ".py",
   "mimetype": "text/x-python",
   "name": "python",
   "nbconvert_exporter": "python",
   "pygments_lexer": "ipython3",
   "version": "3.9.7"
  }
 },
 "nbformat": 4,
 "nbformat_minor": 1
}
