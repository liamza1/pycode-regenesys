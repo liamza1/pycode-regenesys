{
 "cells": [
  {
   "cell_type": "code",
   "execution_count": 4,
   "metadata": {
    "scrolled": true
   },
   "outputs": [
    {
     "name": "stdout",
     "output_type": "stream",
     "text": [
      "end of code\n"
     ]
    }
   ],
   "source": [
    "x=-11\n",
    "if x>0:\n",
    "    print(\"x is positive number\")\n",
    "print(\"end of code\")"
   ]
  },
  {
   "cell_type": "code",
   "execution_count": 6,
   "metadata": {},
   "outputs": [
    {
     "name": "stdout",
     "output_type": "stream",
     "text": [
      "Lets study another topic\n"
     ]
    }
   ],
   "source": [
    "x=-11\n",
    "if x>0: \n",
    "    print(\"x is positive number\")\n",
    "    print(\"code is done...\")\n",
    "    print(\"see u...\")\n",
    "print(\"Lets study another topic\")"
   ]
  },
  {
   "cell_type": "code",
   "execution_count": 2,
   "metadata": {
    "scrolled": true
   },
   "outputs": [
    {
     "name": "stdout",
     "output_type": "stream",
     "text": [
      "x is -ve\n",
      "end of code\n"
     ]
    }
   ],
   "source": [
    "x=-22\n",
    "if x>0:\n",
    "    print(\"x is +ve\")\n",
    "else:\n",
    "    print(\"x is -ve\")\n",
    "print(\"end of code\")"
   ]
  },
  {
   "cell_type": "code",
   "execution_count": 3,
   "metadata": {},
   "outputs": [
    {
     "name": "stdout",
     "output_type": "stream",
     "text": [
      "22  is even number\n"
     ]
    }
   ],
   "source": [
    "# even or odd\n",
    "number=22\n",
    "if number%2==0:\n",
    "    print(number, \" is even number\")\n",
    "else:\n",
    "    print(number, \" is odd number\")"
   ]
  },
  {
   "cell_type": "code",
   "execution_count": 7,
   "metadata": {},
   "outputs": [
    {
     "name": "stdout",
     "output_type": "stream",
     "text": [
      "x is -ve\n",
      "end of code\n"
     ]
    }
   ],
   "source": [
    "x=-1\n",
    "if x>0:\n",
    "    print(\"x is +ve\")\n",
    "elif x==0:\n",
    "    print(\"x is zero\")\n",
    "else:\n",
    "    print(\"x is -ve\")\n",
    "print(\"end of code\")"
   ]
  },
  {
   "cell_type": "code",
   "execution_count": null,
   "metadata": {},
   "outputs": [],
   "source": [
    "x=-9\n",
    "if x>0:\n",
    "    print(\"x is +ve\")\n",
    "else:\n",
    "    if x==0:\n",
    "        print(\"x is zero\")\n",
    "    else:\n",
    "        print(\"x is -ve\")"
   ]
  },
  {
   "cell_type": "code",
   "execution_count": 11,
   "metadata": {},
   "outputs": [
    {
     "data": {
      "text/plain": [
       "True"
      ]
     },
     "execution_count": 11,
     "metadata": {},
     "output_type": "execute_result"
    }
   ],
   "source": [
    "x=2\n",
    "x in [1,2,3,4]"
   ]
  },
  {
   "cell_type": "code",
   "execution_count": 9,
   "metadata": {},
   "outputs": [
    {
     "name": "stdout",
     "output_type": "stream",
     "text": [
      "55  is not present in the given list \n"
     ]
    }
   ],
   "source": [
    "x=55\n",
    "if x in [1,2,3,4,5]:\n",
    "    print(x,\" is present in the given list \")\n",
    "else:\n",
    "    print(x,\" is not present in the given list \")"
   ]
  },
  {
   "cell_type": "code",
   "execution_count": null,
   "metadata": {},
   "outputs": [],
   "source": [
    "#Task -  create a list of 3 products, \n",
    "#check if a new product is available in the list of products"
   ]
  },
  {
   "cell_type": "code",
   "execution_count": null,
   "metadata": {},
   "outputs": [],
   "source": [
    "#Task - Check if entered country name is present in the given list of BRICS country"
   ]
  },
  {
   "cell_type": "code",
   "execution_count": 14,
   "metadata": {},
   "outputs": [
    {
     "name": "stdout",
     "output_type": "stream",
     "text": [
      "Enter your password ADMIN123\n",
      "Login successfully!!!!!\n"
     ]
    }
   ],
   "source": [
    "#checking the password at the time of login\n",
    "password=input(\"Enter your password \")\n",
    "if password!='admin123':\n",
    "    print(\"Password is not matching\")\n",
    "else:\n",
    "    print(\"Login successfully!!!!!\")"
   ]
  },
  {
   "cell_type": "code",
   "execution_count": 19,
   "metadata": {},
   "outputs": [
    {
     "name": "stdout",
     "output_type": "stream",
     "text": [
      "Enter your password ADMIN123\n",
      "Login successfully!!!!!\n"
     ]
    }
   ],
   "source": [
    "#checking the password at the time of login\n",
    "password=input(\"Enter your password \")\n",
    "if password.casefold()!='admin123':\n",
    "    print(\"Password is not matching\")\n",
    "else:\n",
    "    print(\"Login successfully!!!!!\")"
   ]
  },
  {
   "cell_type": "code",
   "execution_count": 15,
   "metadata": {},
   "outputs": [
    {
     "data": {
      "text/plain": [
       "4"
      ]
     },
     "execution_count": 15,
     "metadata": {},
     "output_type": "execute_result"
    }
   ],
   "source": [
    "l=[1,2,34,5]\n",
    "len(l)"
   ]
  },
  {
   "cell_type": "code",
   "execution_count": 16,
   "metadata": {},
   "outputs": [
    {
     "data": {
      "text/plain": [
       "5"
      ]
     },
     "execution_count": 16,
     "metadata": {},
     "output_type": "execute_result"
    }
   ],
   "source": [
    "name='nilay'\n",
    "len(name)"
   ]
  },
  {
   "cell_type": "code",
   "execution_count": 18,
   "metadata": {},
   "outputs": [
    {
     "name": "stdout",
     "output_type": "stream",
     "text": [
      "enter username nk123\n",
      "username should be of minimum 6 characters\n"
     ]
    }
   ],
   "source": [
    "#Task - enter username and check if username is \n",
    "# atleast 6 characters in length\n",
    "username=input(\"enter username \")\n",
    "if len(username)<6 :\n",
    "    print(\"username should be of minimum 6 characters\")\n",
    "else:\n",
    "    print(\"username is accepted\")\n"
   ]
  },
  {
   "cell_type": "code",
   "execution_count": null,
   "metadata": {},
   "outputs": [],
   "source": [
    "#coffee bill app\n",
    "#coffe bill amount -->qty,unit_price\n",
    "unit_price=25\n",
    "quantity=int(input(\"enter the quantity \"))\n",
    "\n",
    "bill_amount=unit_price*quantity\n",
    "\n",
    "\n",
    "# ex1 -cond 1 -- if the amount exceees R100 then provie discount of R10\n",
    "\n"
   ]
  },
  {
   "cell_type": "code",
   "execution_count": null,
   "metadata": {},
   "outputs": [],
   "source": [
    "#percentage calculation and show the final result as Pass/ Fail\n",
    "#i/p--> name, m1 m2 m3, calculate total_marks and percentage, max_marks=100\n",
    "name=int(input(\"enter name of the student\"))\n",
    "m1=int(input(\"enter marks for science subject \"))\n",
    "m2=int(input(\"enter marks for maths subject \"))\n",
    "m3=int(input(\"enter marks for drawing subject \"))\n",
    "total_marks=m1+m2+m3\n",
    "print(total_marks)\n",
    "percentage=(100*total_marks)/300\n",
    "print(percentage)\n",
    "\n",
    "#Check if the student have passed (per>=40) / failed (per<40)\n",
    "# output: Paul has passed "
   ]
  },
  {
   "cell_type": "code",
   "execution_count": 22,
   "metadata": {},
   "outputs": [
    {
     "data": {
      "text/plain": [
       "17"
      ]
     },
     "execution_count": 22,
     "metadata": {},
     "output_type": "execute_result"
    }
   ],
   "source": [
    "from datetime import datetime\n",
    "x=datetime.today()\n",
    "hr=x.hour\n",
    "hr"
   ]
  },
  {
   "cell_type": "code",
   "execution_count": null,
   "metadata": {},
   "outputs": [],
   "source": [
    "#greeting message based on current time "
   ]
  },
  {
   "cell_type": "code",
   "execution_count": 24,
   "metadata": {},
   "outputs": [
    {
     "name": "stdout",
     "output_type": "stream",
     "text": [
      "good night\n"
     ]
    }
   ],
   "source": [
    "hr=22\n",
    "if hr>=12 and hr<18:\n",
    "    msg= \"good afternoon\"\n",
    "elif hr>=18 and hr<24:\n",
    "    msg= \"good night\"\n",
    "else:\n",
    "    msg= \"good morning\"\n",
    "print(msg)"
   ]
  },
  {
   "cell_type": "code",
   "execution_count": 21,
   "metadata": {},
   "outputs": [
    {
     "data": {
      "text/plain": [
       "False"
      ]
     },
     "execution_count": 21,
     "metadata": {},
     "output_type": "execute_result"
    }
   ],
   "source": [
    "#Task - enter username and check if username is \n",
    "# atleast 6 characters in length and all characters are alphabets\n",
    "username=\"nilay1\"\n",
    "username.isalpha()"
   ]
  },
  {
   "cell_type": "code",
   "execution_count": null,
   "metadata": {},
   "outputs": [],
   "source": [
    "#Task - Enter p,n,r,age. Calculate simple interest and apply dicount of 10% on simple interest if age more than 50"
   ]
  },
  {
   "cell_type": "code",
   "execution_count": 17,
   "metadata": {},
   "outputs": [],
   "source": [
    "#Task - Enter the length of 3 sides of a triagle and predict the category of triangle\n",
    "#Scalene triangle : all sides have different lengths\n",
    "#Isosceles triangle : two sides have same lengths\n",
    "#Equilateral triangle : all sides have same lengths"
   ]
  },
  {
   "cell_type": "code",
   "execution_count": null,
   "metadata": {},
   "outputs": [],
   "source": []
  }
 ],
 "metadata": {
  "kernelspec": {
   "display_name": "Python 3 (ipykernel)",
   "language": "python",
   "name": "python3"
  },
  "language_info": {
   "codemirror_mode": {
    "name": "ipython",
    "version": 3
   },
   "file_extension": ".py",
   "mimetype": "text/x-python",
   "name": "python",
   "nbconvert_exporter": "python",
   "pygments_lexer": "ipython3",
   "version": "3.9.7"
  }
 },
 "nbformat": 4,
 "nbformat_minor": 2
}
