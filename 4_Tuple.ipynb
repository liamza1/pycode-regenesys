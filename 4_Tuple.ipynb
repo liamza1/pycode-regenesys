{
 "cells": [
  {
   "cell_type": "markdown",
   "metadata": {
    "id": "lwMm464RKK54"
   },
   "source": [
    "<h1>Tuple</h1>\n",
    "<span>A tuple is an immutable sequence of Python objects. Tuples are sequences, just like lists. The differences between tuples and lists are, the tuples cannot be changed unlike lists and tuples use parentheses, whereas lists use square brackets.</span>"
   ]
  },
  {
   "cell_type": "markdown",
   "metadata": {
    "id": "h3IVwTVcKK58"
   },
   "source": [
    "<h3>Tuple creation and initialization</h3>"
   ]
  },
  {
   "cell_type": "code",
   "execution_count": null,
   "metadata": {
    "id": "pQKYwWATKK59"
   },
   "outputs": [],
   "source": [
    "t=()"
   ]
  },
  {
   "cell_type": "code",
   "execution_count": null,
   "metadata": {
    "id": "m670-uKrKK5-",
    "outputId": "ebd6a535-7a7b-494e-f96f-c95ec9875242"
   },
   "outputs": [
    {
     "data": {
      "text/plain": [
       "tuple"
      ]
     },
     "execution_count": 2,
     "metadata": {},
     "output_type": "execute_result"
    }
   ],
   "source": [
    "type(t)"
   ]
  },
  {
   "cell_type": "code",
   "execution_count": null,
   "metadata": {
    "id": "xM2fwJWIKK5_",
    "outputId": "a0a4c046-c578-4777-ac48-f40743f1df50"
   },
   "outputs": [
    {
     "data": {
      "text/plain": [
       "(31, 24, 49)"
      ]
     },
     "execution_count": 3,
     "metadata": {},
     "output_type": "execute_result"
    }
   ],
   "source": [
    "x=(31,24,49)\n",
    "x"
   ]
  },
  {
   "cell_type": "code",
   "execution_count": null,
   "metadata": {
    "id": "cjK86SKkKK5_",
    "outputId": "0720cc9e-eae1-44b1-9704-58df33c51c06"
   },
   "outputs": [
    {
     "data": {
      "text/plain": [
       "(3.1, 2.4, 4.9)"
      ]
     },
     "execution_count": 4,
     "metadata": {},
     "output_type": "execute_result"
    }
   ],
   "source": [
    "x=(3.1,2.4,4.9)\n",
    "x"
   ]
  },
  {
   "cell_type": "code",
   "execution_count": null,
   "metadata": {
    "colab": {
     "base_uri": "https://localhost:8080/"
    },
    "id": "SayJ1NsbKK6A",
    "outputId": "9405cd34-b461-4f2f-f635-070f28e72c9a"
   },
   "outputs": [
    {
     "data": {
      "text/plain": [
       "('South Africa', 'India', 'Nigeria')"
      ]
     },
     "execution_count": 1,
     "metadata": {},
     "output_type": "execute_result"
    }
   ],
   "source": [
    "countries=(\"South Africa\",\"India\",\"Nigeria\")\n",
    "countries"
   ]
  },
  {
   "cell_type": "code",
   "execution_count": null,
   "metadata": {
    "colab": {
     "base_uri": "https://localhost:8080/"
    },
    "id": "_1cZM7grKK6B",
    "outputId": "dfb3d144-30ed-4283-d3a9-e294b49861e1"
   },
   "outputs": [
    {
     "data": {
      "text/plain": [
       "(60, 1.2, 'South Africa')"
      ]
     },
     "execution_count": 4,
     "metadata": {},
     "output_type": "execute_result"
    }
   ],
   "source": [
    "sa_country=(60,1.2,\"South Africa\")\n",
    "sa_country"
   ]
  },
  {
   "cell_type": "code",
   "execution_count": null,
   "metadata": {
    "id": "qB_NylWvpvtj"
   },
   "outputs": [],
   "source": [
    "nig_country=(200,2.5,\"Nigeria\")"
   ]
  },
  {
   "cell_type": "code",
   "execution_count": null,
   "metadata": {
    "colab": {
     "base_uri": "https://localhost:8080/"
    },
    "id": "mkZrLLVhKK6B",
    "outputId": "d429382f-96c7-4541-f306-940e4f64de8e"
   },
   "outputs": [
    {
     "data": {
      "text/plain": [
       "(60, 1.2, 'South Africa', [10, 22, 33, 44])"
      ]
     },
     "execution_count": 5,
     "metadata": {},
     "output_type": "execute_result"
    }
   ],
   "source": [
    "sa_country=(60,1.2,\"South Africa\",[10,22,33,44])\n",
    "sa_country\n"
   ]
  },
  {
   "cell_type": "code",
   "execution_count": null,
   "metadata": {
    "colab": {
     "base_uri": "https://localhost:8080/"
    },
    "id": "9y-i3nbtKK6C",
    "outputId": "9a0f3f7e-991b-41b0-d5ed-45728a695b07"
   },
   "outputs": [
    {
     "data": {
      "text/plain": [
       "(60,\n",
       " 1.2,\n",
       " 'South Africa',\n",
       " [10, 22, 33, 44],\n",
       " ('Zulu', 'Xhosa', 'Afrikaans', 'English'))"
      ]
     },
     "execution_count": 6,
     "metadata": {},
     "output_type": "execute_result"
    }
   ],
   "source": [
    "sa_country=(60,\n",
    "            1.2,\n",
    "            \"South Africa\",\n",
    "            [10,22,33,44],\n",
    "            (\"Zulu\",\"Xhosa\",\"Afrikaans\",\"English\"))\n",
    "sa_country\n"
   ]
  },
  {
   "cell_type": "code",
   "execution_count": null,
   "metadata": {
    "id": "h3D_f2jwKK6C",
    "outputId": "5bfff2d5-4de1-4077-a4f9-871cfade4d6e"
   },
   "outputs": [
    {
     "data": {
      "text/plain": [
       "(22,)"
      ]
     },
     "execution_count": 9,
     "metadata": {},
     "output_type": "execute_result"
    }
   ],
   "source": [
    "x=(22,)\n",
    "x"
   ]
  },
  {
   "cell_type": "code",
   "execution_count": null,
   "metadata": {
    "id": "V7RbU4wvKK6D",
    "outputId": "9dde3e03-d921-4e90-f2bb-2d719804ee3e"
   },
   "outputs": [
    {
     "data": {
      "text/plain": [
       "tuple"
      ]
     },
     "execution_count": 10,
     "metadata": {},
     "output_type": "execute_result"
    }
   ],
   "source": [
    "type(x)"
   ]
  },
  {
   "cell_type": "code",
   "execution_count": null,
   "metadata": {
    "id": "rkuUgtlmKK6D",
    "outputId": "363a26ad-bac9-4054-c01f-f02bc9d5d5f8"
   },
   "outputs": [
    {
     "data": {
      "text/plain": [
       "22"
      ]
     },
     "execution_count": 11,
     "metadata": {},
     "output_type": "execute_result"
    }
   ],
   "source": [
    "y=(22)#y=22\n",
    "y"
   ]
  },
  {
   "cell_type": "code",
   "execution_count": null,
   "metadata": {
    "id": "2KTJaaQyKK6D",
    "outputId": "07ab4b9d-c972-4d88-9525-4e28ece850f0"
   },
   "outputs": [
    {
     "data": {
      "text/plain": [
       "int"
      ]
     },
     "execution_count": 12,
     "metadata": {},
     "output_type": "execute_result"
    }
   ],
   "source": [
    "type(y)"
   ]
  },
  {
   "cell_type": "markdown",
   "metadata": {
    "id": "azCqOZkkKK6E"
   },
   "source": [
    "<h3>Tuple indexing</h3>"
   ]
  },
  {
   "cell_type": "code",
   "execution_count": null,
   "metadata": {
    "colab": {
     "base_uri": "https://localhost:8080/"
    },
    "id": "k8PEYZXqKK6E",
    "outputId": "6b3dbc6d-7d27-4fef-dbcc-8830377bd9f4"
   },
   "outputs": [
    {
     "data": {
      "text/plain": [
       "3"
      ]
     },
     "execution_count": 7,
     "metadata": {},
     "output_type": "execute_result"
    }
   ],
   "source": [
    "x=(1,3,5,7,9)\n",
    "x[1]"
   ]
  },
  {
   "cell_type": "code",
   "execution_count": null,
   "metadata": {
    "colab": {
     "base_uri": "https://localhost:8080/"
    },
    "id": "ZObrthVfKK6E",
    "outputId": "231e0967-b8fa-445d-c7c1-264551fe9231"
   },
   "outputs": [
    {
     "data": {
      "text/plain": [
       "9"
      ]
     },
     "execution_count": 8,
     "metadata": {},
     "output_type": "execute_result"
    }
   ],
   "source": [
    "x[-1]"
   ]
  },
  {
   "cell_type": "code",
   "execution_count": null,
   "metadata": {
    "colab": {
     "base_uri": "https://localhost:8080/",
     "height": 169
    },
    "id": "0LlEfuuLZhVE",
    "outputId": "115f7f1b-696a-473a-f611-97ff3861ad39"
   },
   "outputs": [
    {
     "ename": "TypeError",
     "evalue": "ignored",
     "output_type": "error",
     "traceback": [
      "\u001b[0;31m---------------------------------------------------------------------------\u001b[0m",
      "\u001b[0;31mTypeError\u001b[0m                                 Traceback (most recent call last)",
      "\u001b[0;32m<ipython-input-12-fa6617a15cc9>\u001b[0m in \u001b[0;36m<module>\u001b[0;34m()\u001b[0m\n\u001b[0;32m----> 1\u001b[0;31m \u001b[0mx\u001b[0m\u001b[0;34m[\u001b[0m\u001b[0;36m0\u001b[0m\u001b[0;34m]\u001b[0m\u001b[0;34m=\u001b[0m\u001b[0;36m11\u001b[0m\u001b[0;34m\u001b[0m\u001b[0;34m\u001b[0m\u001b[0m\n\u001b[0m",
      "\u001b[0;31mTypeError\u001b[0m: 'tuple' object does not support item assignment"
     ]
    }
   ],
   "source": [
    "x[0]=11"
   ]
  },
  {
   "cell_type": "code",
   "execution_count": null,
   "metadata": {
    "id": "NbmEcr4lKK6F"
   },
   "outputs": [],
   "source": [
    "y=((1,3,5,7,9),(2,4,6,8,10))"
   ]
  },
  {
   "cell_type": "code",
   "execution_count": null,
   "metadata": {
    "colab": {
     "base_uri": "https://localhost:8080/"
    },
    "id": "5MIokzJmKK6F",
    "outputId": "76b47d31-8875-471b-8c22-30d2da8df551"
   },
   "outputs": [
    {
     "data": {
      "text/plain": [
       "(1, 3, 5, 7, 9)"
      ]
     },
     "execution_count": 10,
     "metadata": {},
     "output_type": "execute_result"
    }
   ],
   "source": [
    "y[0]"
   ]
  },
  {
   "cell_type": "code",
   "execution_count": null,
   "metadata": {
    "colab": {
     "base_uri": "https://localhost:8080/"
    },
    "id": "JiyObZ2OKK6G",
    "outputId": "e9c28a64-b556-414a-c0df-a181342556ef"
   },
   "outputs": [
    {
     "data": {
      "text/plain": [
       "5"
      ]
     },
     "execution_count": 11,
     "metadata": {},
     "output_type": "execute_result"
    }
   ],
   "source": [
    "y[0][2]"
   ]
  },
  {
   "cell_type": "code",
   "execution_count": null,
   "metadata": {
    "id": "aQ2I6I-qKK6G",
    "outputId": "23baf708-931e-4707-956a-6845d2eb437d"
   },
   "outputs": [
    {
     "data": {
      "text/plain": [
       "[22, 4, 6, 8]"
      ]
     },
     "execution_count": 20,
     "metadata": {},
     "output_type": "execute_result"
    }
   ],
   "source": [
    "x[3]"
   ]
  },
  {
   "cell_type": "code",
   "execution_count": null,
   "metadata": {
    "id": "3ozXi6tQKK6G",
    "outputId": "eee928ff-3934-4839-cc30-5e33952f5ff3"
   },
   "outputs": [
    {
     "data": {
      "text/plain": [
       "4"
      ]
     },
     "execution_count": 21,
     "metadata": {},
     "output_type": "execute_result"
    }
   ],
   "source": [
    "x[3][1]"
   ]
  },
  {
   "cell_type": "code",
   "execution_count": null,
   "metadata": {
    "id": "G-kKhiCpKK6G"
   },
   "outputs": [],
   "source": [
    "#brics countries tuple - country name and their capital city\n",
    "\n",
    "brics_countries=(\n",
    "    (\"\",\"\",\"\",\"\",\"\"),\n",
    "    (\"\",\"\",\"\",\"\")\n",
    ")"
   ]
  },
  {
   "cell_type": "code",
   "execution_count": null,
   "metadata": {
    "id": "tclXjXyqKK6H"
   },
   "outputs": [],
   "source": [
    "brics_countries[0]"
   ]
  },
  {
   "cell_type": "code",
   "execution_count": null,
   "metadata": {
    "id": "XpjaFk7DKK6H"
   },
   "outputs": [],
   "source": [
    "brics_countries[1]"
   ]
  },
  {
   "cell_type": "code",
   "execution_count": null,
   "metadata": {
    "id": "9y5H3m1gKK6H"
   },
   "outputs": [],
   "source": [
    "brics_countries[0][4]"
   ]
  },
  {
   "cell_type": "code",
   "execution_count": null,
   "metadata": {
    "id": "YHOV9kP2aVLD"
   },
   "outputs": [],
   "source": [
    "brics_countries[1][4]"
   ]
  },
  {
   "cell_type": "code",
   "execution_count": null,
   "metadata": {
    "id": "tRsFNSA7KK6H"
   },
   "outputs": [],
   "source": [
    "print(\"capital of \",x[][], \"is \",x[][])"
   ]
  },
  {
   "cell_type": "markdown",
   "metadata": {
    "id": "PafUJFXwKK6I"
   },
   "source": [
    "<h3>INDEX Slicing in tuple</h3>"
   ]
  },
  {
   "cell_type": "code",
   "execution_count": null,
   "metadata": {
    "id": "KPVH_2I_KK6I"
   },
   "outputs": [],
   "source": [
    "x=(2,4,6,8,10,12,14)"
   ]
  },
  {
   "cell_type": "code",
   "execution_count": null,
   "metadata": {
    "id": "62JSwabDKK6I",
    "outputId": "2917ed87-3154-4c92-8b75-83ed5257dfbb"
   },
   "outputs": [
    {
     "data": {
      "text/plain": [
       "(8, 10, 12, 14)"
      ]
     },
     "execution_count": 29,
     "metadata": {},
     "output_type": "execute_result"
    }
   ],
   "source": [
    "x[3:7]"
   ]
  },
  {
   "cell_type": "code",
   "execution_count": null,
   "metadata": {
    "id": "eozs0NvfKK6I",
    "outputId": "90af40f4-a8f0-4a06-990c-7ee228ae8f3e"
   },
   "outputs": [
    {
     "data": {
      "text/plain": [
       "(2, 4, 6, 8)"
      ]
     },
     "execution_count": 30,
     "metadata": {},
     "output_type": "execute_result"
    }
   ],
   "source": [
    "x[:4]"
   ]
  },
  {
   "cell_type": "code",
   "execution_count": null,
   "metadata": {
    "id": "spDbrEecKK6I",
    "outputId": "eb8ef04e-63e5-4729-bc6d-27bddc566295"
   },
   "outputs": [
    {
     "data": {
      "text/plain": [
       "(2, 4, 6, 8, 10, 12, 14)"
      ]
     },
     "execution_count": 31,
     "metadata": {},
     "output_type": "execute_result"
    }
   ],
   "source": [
    "x"
   ]
  },
  {
   "cell_type": "code",
   "execution_count": null,
   "metadata": {
    "id": "SUbMZaRvKK6J",
    "outputId": "bbec73fb-23e1-4397-a141-cb9cc8981437"
   },
   "outputs": [
    {
     "data": {
      "text/plain": [
       "(4, 6, 8, 10, 12)"
      ]
     },
     "execution_count": 32,
     "metadata": {},
     "output_type": "execute_result"
    }
   ],
   "source": [
    "x[1:6]"
   ]
  },
  {
   "cell_type": "code",
   "execution_count": null,
   "metadata": {
    "id": "QDKwtMSrKK6J",
    "outputId": "fd5e80dd-aa65-4eaf-8709-0555447d95a6"
   },
   "outputs": [
    {
     "data": {
      "text/plain": [
       "(4, 8, 12)"
      ]
     },
     "execution_count": 33,
     "metadata": {},
     "output_type": "execute_result"
    }
   ],
   "source": [
    "x[1:6:2]"
   ]
  },
  {
   "cell_type": "code",
   "execution_count": null,
   "metadata": {
    "id": "EtQlWKs4KK6J"
   },
   "outputs": [],
   "source": [
    "y=(1,2,3,4,5,6,7,8,9)"
   ]
  },
  {
   "cell_type": "code",
   "execution_count": null,
   "metadata": {
    "id": "WSM7dScLKK6J",
    "outputId": "53a1f88c-238a-49ba-b1de-3d195a0718c6"
   },
   "outputs": [
    {
     "data": {
      "text/plain": [
       "(1, 2, 3, 4, 5, 6, 7)"
      ]
     },
     "execution_count": 35,
     "metadata": {},
     "output_type": "execute_result"
    }
   ],
   "source": [
    "y[0:7]"
   ]
  },
  {
   "cell_type": "code",
   "execution_count": null,
   "metadata": {
    "id": "FdM2wnFXKK6J",
    "outputId": "7f44df74-b31c-4800-de43-e2c12e20b9eb"
   },
   "outputs": [
    {
     "data": {
      "text/plain": [
       "(1, 4, 7)"
      ]
     },
     "execution_count": 36,
     "metadata": {},
     "output_type": "execute_result"
    }
   ],
   "source": [
    "y[0:7:3]"
   ]
  },
  {
   "cell_type": "code",
   "execution_count": null,
   "metadata": {
    "colab": {
     "base_uri": "https://localhost:8080/"
    },
    "id": "ct-SF1X-KK6J",
    "outputId": "5d7dcddc-5a5d-41ad-ad30-95c1da1b10dd"
   },
   "outputs": [
    {
     "data": {
      "text/plain": [
       "[3, 4]"
      ]
     },
     "execution_count": 13,
     "metadata": {},
     "output_type": "execute_result"
    }
   ],
   "source": [
    "x=(1,2,[3,4])\n",
    "x[2]"
   ]
  },
  {
   "cell_type": "code",
   "execution_count": null,
   "metadata": {
    "id": "iQOccSYXKK6K"
   },
   "outputs": [],
   "source": [
    "x[2].append(22)"
   ]
  },
  {
   "cell_type": "code",
   "execution_count": null,
   "metadata": {
    "colab": {
     "base_uri": "https://localhost:8080/"
    },
    "id": "V92Z0i4-KK6K",
    "outputId": "0d990f98-22e9-4518-9dd4-b8ea16929886"
   },
   "outputs": [
    {
     "data": {
      "text/plain": [
       "(1, 2, [3, 4, 22])"
      ]
     },
     "execution_count": 15,
     "metadata": {},
     "output_type": "execute_result"
    }
   ],
   "source": [
    "x"
   ]
  },
  {
   "cell_type": "code",
   "execution_count": null,
   "metadata": {
    "id": "dTVNXlYEKK6K",
    "outputId": "24caf721-6a8b-4bc9-ff15-901a888686e7"
   },
   "outputs": [
    {
     "data": {
      "text/plain": [
       "(1, 2, [3, 222, 4, 22])"
      ]
     },
     "execution_count": 12,
     "metadata": {},
     "output_type": "execute_result"
    }
   ],
   "source": [
    "x[2].insert(1,222)\n",
    "x"
   ]
  },
  {
   "cell_type": "code",
   "execution_count": null,
   "metadata": {
    "id": "ngwyqjsaKK6K",
    "outputId": "9e1d43ec-5ad8-4d34-88e5-2e4f086e69c8"
   },
   "outputs": [
    {
     "data": {
      "text/plain": [
       "3"
      ]
     },
     "execution_count": 13,
     "metadata": {},
     "output_type": "execute_result"
    }
   ],
   "source": [
    "len(x)"
   ]
  },
  {
   "cell_type": "code",
   "execution_count": null,
   "metadata": {
    "id": "mlVs6vB8KK6K"
   },
   "outputs": [],
   "source": []
  }
 ],
 "metadata": {
  "colab": {
   "name": "1-4 Tuple.ipynb",
   "provenance": []
  },
  "kernelspec": {
   "display_name": "Python 3 (ipykernel)",
   "language": "python",
   "name": "python3"
  },
  "language_info": {
   "codemirror_mode": {
    "name": "ipython",
    "version": 3
   },
   "file_extension": ".py",
   "mimetype": "text/x-python",
   "name": "python",
   "nbconvert_exporter": "python",
   "pygments_lexer": "ipython3",
   "version": "3.9.7"
  }
 },
 "nbformat": 4,
 "nbformat_minor": 1
}
