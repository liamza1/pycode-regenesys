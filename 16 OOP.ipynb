{
 "cells": [
  {
   "cell_type": "markdown",
   "id": "466dcab5",
   "metadata": {},
   "source": [
    "empty class\n",
    "create obj\n",
    "\n",
    "declare class with empty init\n",
    "create obj\n",
    "set attribut values\n",
    "print attr\n",
    "\n",
    "Object oriented programming\n",
    "\n",
    "- Encapsulation\n",
    "  - The whole idea behind encapsulation is to hide the implementation details from users.\n",
    "- Abstraction\n",
    "  - Hides internal details from outside world.\n",
    "- Polymorphism \n",
    "  - Polymorphism refers to one name with many forms. It is the ability of one function to perform in different ways.\n",
    "- Inheritance\n",
    "  - It is a mechanism where you can to derive a class from another class for a hierarchy of classes that share a set of attributes and methods."
   ]
  },
  {
   "cell_type": "code",
   "execution_count": 102,
   "id": "9a61eead",
   "metadata": {},
   "outputs": [],
   "source": [
    "#creating fist empty class"
   ]
  },
  {
   "cell_type": "code",
   "execution_count": 103,
   "id": "5a270492",
   "metadata": {},
   "outputs": [],
   "source": [
    "class Employee:\n",
    "    pass"
   ]
  },
  {
   "cell_type": "code",
   "execution_count": 104,
   "id": "4b1a9ea3",
   "metadata": {},
   "outputs": [],
   "source": [
    "paul=Employee()"
   ]
  },
  {
   "cell_type": "code",
   "execution_count": 105,
   "id": "5d6a1ffe",
   "metadata": {},
   "outputs": [
    {
     "data": {
      "text/plain": [
       "__main__.Employee"
      ]
     },
     "execution_count": 105,
     "metadata": {},
     "output_type": "execute_result"
    }
   ],
   "source": [
    "type(paul)"
   ]
  },
  {
   "cell_type": "code",
   "execution_count": 106,
   "id": "46efaf3a",
   "metadata": {},
   "outputs": [],
   "source": [
    "paul.name=\"Paul\"\n",
    "paul.designation=\"DS\""
   ]
  },
  {
   "cell_type": "code",
   "execution_count": 107,
   "id": "2d9fccc8",
   "metadata": {},
   "outputs": [],
   "source": [
    "#ver 2 of a class declaration"
   ]
  },
  {
   "cell_type": "code",
   "execution_count": 113,
   "id": "00422088",
   "metadata": {},
   "outputs": [],
   "source": [
    "class Employee:\n",
    "    def __init__(self,name,designation,basic):\n",
    "        self.name=name\n",
    "        self.designation=designation\n",
    "        self.basic=basic"
   ]
  },
  {
   "cell_type": "code",
   "execution_count": 114,
   "id": "fc6f5a0f",
   "metadata": {},
   "outputs": [],
   "source": [
    "joy=Employee(\"Joy\",\"SDE\",\"150000\")"
   ]
  },
  {
   "cell_type": "code",
   "execution_count": 115,
   "id": "55759fd4",
   "metadata": {},
   "outputs": [
    {
     "data": {
      "text/plain": [
       "'Joy'"
      ]
     },
     "execution_count": 115,
     "metadata": {},
     "output_type": "execute_result"
    }
   ],
   "source": [
    "joy.name"
   ]
  },
  {
   "cell_type": "code",
   "execution_count": 111,
   "id": "9dd9ad12",
   "metadata": {},
   "outputs": [
    {
     "data": {
      "text/plain": [
       "'SDE'"
      ]
     },
     "execution_count": 111,
     "metadata": {},
     "output_type": "execute_result"
    }
   ],
   "source": [
    "joy.designation"
   ]
  },
  {
   "cell_type": "code",
   "execution_count": 112,
   "id": "b077206c",
   "metadata": {},
   "outputs": [
    {
     "data": {
      "text/plain": [
       "'150000'"
      ]
     },
     "execution_count": 112,
     "metadata": {},
     "output_type": "execute_result"
    }
   ],
   "source": [
    "joy.basic"
   ]
  },
  {
   "cell_type": "code",
   "execution_count": 116,
   "id": "0a02ad01",
   "metadata": {},
   "outputs": [
    {
     "data": {
      "text/plain": [
       "'PL'"
      ]
     },
     "execution_count": 116,
     "metadata": {},
     "output_type": "execute_result"
    }
   ],
   "source": [
    "joy.designation=\"PL\"\n",
    "joy.designation"
   ]
  },
  {
   "cell_type": "code",
   "execution_count": null,
   "id": "195f5162",
   "metadata": {},
   "outputs": [],
   "source": [
    "#ver 3 class declaration"
   ]
  },
  {
   "cell_type": "code",
   "execution_count": 117,
   "id": "ade30991",
   "metadata": {},
   "outputs": [],
   "source": [
    "class Employee:\n",
    "    def __init__(self,name,designation,basic):\n",
    "        self.name=name\n",
    "        self.designation=designation\n",
    "        self.basic=basic\n",
    "        \n",
    "    def calculate_salary(self):\n",
    "        self.hra=0.2*self.basic\n",
    "        self.da=0.4*self.basic\n",
    "        self.gs=self.basic+self.hra+self.da\n",
    "        print(\"Salary details of \",self.name,\" are as follows:\")\n",
    "        print(\"Basic:\",self.basic,\"\\nHRA:\",self.hra,\"\\nDA:\",self.da,\"\\nTotal:\",self.gs)\n",
    "        \n",
    "    def employee_details(self):\n",
    "        print(\"Employee name:\",self.name)\n",
    "        print(\"Designation\",self.designation)\n",
    "        print(\"Basic:\",self.basic,\"\\nHRA:\",self.hra,\"\\nDA:\",self.da,\"\\nTotal:\",self.gs)"
   ]
  },
  {
   "cell_type": "code",
   "execution_count": 118,
   "id": "e1eabf03",
   "metadata": {},
   "outputs": [],
   "source": [
    "amenda=Employee(\"amenda\",'MLE',10000000)"
   ]
  },
  {
   "cell_type": "code",
   "execution_count": 119,
   "id": "e1471073",
   "metadata": {},
   "outputs": [
    {
     "name": "stdout",
     "output_type": "stream",
     "text": [
      "Salary details of  amenda  are as follows:\n",
      "Basic: 10000000 \n",
      "HRA: 2000000.0 \n",
      "DA: 4000000.0 \n",
      "Total: 16000000.0\n"
     ]
    }
   ],
   "source": [
    "amenda.calculate_salary()"
   ]
  },
  {
   "cell_type": "code",
   "execution_count": 120,
   "id": "8ea4d56e",
   "metadata": {},
   "outputs": [
    {
     "name": "stdout",
     "output_type": "stream",
     "text": [
      "Employee name: amenda\n",
      "Designation MLE\n",
      "Basic: 10000000 \n",
      "HRA: 2000000.0 \n",
      "DA: 4000000.0 \n",
      "Total: 16000000.0\n"
     ]
    }
   ],
   "source": [
    "amenda.employee_details()"
   ]
  },
  {
   "cell_type": "code",
   "execution_count": null,
   "id": "cf7b531c",
   "metadata": {},
   "outputs": [],
   "source": [
    "#Task - cleate a class called coffee_bill. Attr/data members- qty, unit_price, Function - calcluate bill amount"
   ]
  },
  {
   "cell_type": "code",
   "execution_count": 121,
   "id": "d89eba52",
   "metadata": {},
   "outputs": [],
   "source": [
    "class Data_Scientist(Employee):\n",
    "    def __init__(self,name,designation,basic,project):\n",
    "        super().__init__(name,designation,basic)\n",
    "        self.project=project\n",
    "        "
   ]
  },
  {
   "cell_type": "code",
   "execution_count": 122,
   "id": "2ca59ad1",
   "metadata": {},
   "outputs": [],
   "source": [
    "joy=Data_Scientist(\"Joy\",\"DS\",11000,\"Image classification\")"
   ]
  },
  {
   "cell_type": "code",
   "execution_count": 123,
   "id": "b6b72db0",
   "metadata": {},
   "outputs": [
    {
     "data": {
      "text/plain": [
       "11000"
      ]
     },
     "execution_count": 123,
     "metadata": {},
     "output_type": "execute_result"
    }
   ],
   "source": [
    "joy.basic"
   ]
  },
  {
   "cell_type": "code",
   "execution_count": 124,
   "id": "c19cb857",
   "metadata": {},
   "outputs": [
    {
     "name": "stdout",
     "output_type": "stream",
     "text": [
      "Salary details of  Joy  are as follows:\n",
      "Basic: 11000 \n",
      "HRA: 2200.0 \n",
      "DA: 4400.0 \n",
      "Total: 17600.0\n"
     ]
    }
   ],
   "source": [
    "joy.calculate_salary()"
   ]
  },
  {
   "cell_type": "code",
   "execution_count": 125,
   "id": "82622e59",
   "metadata": {},
   "outputs": [
    {
     "name": "stdout",
     "output_type": "stream",
     "text": [
      "Employee name: Joy\n",
      "Designation DS\n",
      "Basic: 11000 \n",
      "HRA: 2200.0 \n",
      "DA: 4400.0 \n",
      "Total: 17600.0\n"
     ]
    }
   ],
   "source": [
    "joy.employee_details()"
   ]
  },
  {
   "cell_type": "code",
   "execution_count": null,
   "id": "a2a89851",
   "metadata": {},
   "outputs": [],
   "source": []
  },
  {
   "cell_type": "code",
   "execution_count": 127,
   "id": "5db697d7",
   "metadata": {},
   "outputs": [],
   "source": [
    "class Data_Scientist(Employee):\n",
    "    def __init__(self,name,designation,basic,project):\n",
    "        super().__init__(name,designation,basic)\n",
    "        self.project=project\n",
    "    \n",
    "    def employee_details(self):\n",
    "        print(\"Employee name:\",self.name)\n",
    "        print(\"Designation\",self.designation)\n",
    "        print(\"Basic:\",self.basic,\"\\nHRA:\",self.hra,\"\\nDA:\",self.da,\"\\nTotal:\",self.gs)\n",
    "        print(\"Porject:\",self.project)\n",
    "            \n"
   ]
  },
  {
   "cell_type": "code",
   "execution_count": 129,
   "id": "e9f7a05d",
   "metadata": {},
   "outputs": [],
   "source": [
    "joy=Data_Scientist(\"Joy\",\"DS\",11000,\"Image classification\")"
   ]
  },
  {
   "cell_type": "code",
   "execution_count": 130,
   "id": "4de2e3c7",
   "metadata": {},
   "outputs": [
    {
     "name": "stdout",
     "output_type": "stream",
     "text": [
      "Salary details of  Joy  are as follows:\n",
      "Basic: 11000 \n",
      "HRA: 2200.0 \n",
      "DA: 4400.0 \n",
      "Total: 17600.0\n"
     ]
    }
   ],
   "source": [
    "joy.calculate_salary()"
   ]
  },
  {
   "cell_type": "code",
   "execution_count": 131,
   "id": "7c739c8e",
   "metadata": {},
   "outputs": [
    {
     "name": "stdout",
     "output_type": "stream",
     "text": [
      "Employee name: Joy\n",
      "Designation DS\n",
      "Basic: 11000 \n",
      "HRA: 2200.0 \n",
      "DA: 4400.0 \n",
      "Total: 17600.0\n",
      "Porject: Image classification\n"
     ]
    }
   ],
   "source": [
    "joy.employee_details()"
   ]
  }
 ],
 "metadata": {
  "kernelspec": {
   "display_name": "Python 3 (ipykernel)",
   "language": "python",
   "name": "python3"
  },
  "language_info": {
   "codemirror_mode": {
    "name": "ipython",
    "version": 3
   },
   "file_extension": ".py",
   "mimetype": "text/x-python",
   "name": "python",
   "nbconvert_exporter": "python",
   "pygments_lexer": "ipython3",
   "version": "3.9.7"
  }
 },
 "nbformat": 4,
 "nbformat_minor": 5
}
