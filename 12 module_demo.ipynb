{
 "cells": [
  {
   "cell_type": "code",
   "execution_count": 19,
   "id": "b1c2118b",
   "metadata": {},
   "outputs": [],
   "source": [
    "from finance import si"
   ]
  },
  {
   "cell_type": "code",
   "execution_count": 20,
   "id": "d78a28b1",
   "metadata": {},
   "outputs": [
    {
     "name": "stdout",
     "output_type": "stream",
     "text": [
      "SI =  1200.0\n"
     ]
    }
   ],
   "source": [
    "si(10000,2,6)"
   ]
  },
  {
   "cell_type": "code",
   "execution_count": 8,
   "id": "f6236e4f",
   "metadata": {},
   "outputs": [],
   "source": [
    "#from math import factorial,sin,cos,radians\n",
    "from math import factorial,sin,cos"
   ]
  },
  {
   "cell_type": "code",
   "execution_count": 5,
   "id": "b11ee59c",
   "metadata": {
    "scrolled": true
   },
   "outputs": [
    {
     "name": "stdout",
     "output_type": "stream",
     "text": [
      "factorial of 10 = \n"
     ]
    },
    {
     "data": {
      "text/plain": [
       "3628800"
      ]
     },
     "execution_count": 5,
     "metadata": {},
     "output_type": "execute_result"
    }
   ],
   "source": [
    "print(\"factorial of 10 = \")\n",
    "factorial(10)"
   ]
  },
  {
   "cell_type": "code",
   "execution_count": 10,
   "id": "239dfd5b",
   "metadata": {},
   "outputs": [
    {
     "name": "stdout",
     "output_type": "stream",
     "text": [
      "sin of 90 degrees =  1.0\n"
     ]
    }
   ],
   "source": [
    "print(\"sin of 90 degrees = \", sin(math.radians(90)))\n"
   ]
  },
  {
   "cell_type": "code",
   "execution_count": 17,
   "id": "0b39e5b9",
   "metadata": {},
   "outputs": [
    {
     "data": {
      "text/plain": [
       "datetime.date(2022, 7, 29)"
      ]
     },
     "execution_count": 17,
     "metadata": {},
     "output_type": "execute_result"
    }
   ],
   "source": [
    "from datetime import date\n",
    "current_date=date.today()\n",
    "current_date"
   ]
  },
  {
   "cell_type": "code",
   "execution_count": null,
   "id": "3dd34f24",
   "metadata": {},
   "outputs": [],
   "source": []
  }
 ],
 "metadata": {
  "kernelspec": {
   "display_name": "Python 3 (ipykernel)",
   "language": "python",
   "name": "python3"
  },
  "language_info": {
   "codemirror_mode": {
    "name": "ipython",
    "version": 3
   },
   "file_extension": ".py",
   "mimetype": "text/x-python",
   "name": "python",
   "nbconvert_exporter": "python",
   "pygments_lexer": "ipython3",
   "version": "3.9.7"
  }
 },
 "nbformat": 4,
 "nbformat_minor": 5
}
