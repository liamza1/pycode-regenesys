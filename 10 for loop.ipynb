{
 "cells": [
  {
   "cell_type": "code",
   "execution_count": 7,
   "metadata": {
    "collapsed": true
   },
   "outputs": [
    {
     "name": "stdout",
     "output_type": "stream",
     "text": [
      "Welcome\n",
      "Welcome\n",
      "Welcome\n",
      "Welcome\n",
      "Welcome\n",
      "Welcome\n",
      "Welcome\n",
      "Welcome\n",
      "Welcome\n",
      "Welcome\n",
      "End of loop\n"
     ]
    }
   ],
   "source": [
    "i=1\n",
    "while i<=10:\n",
    "    print(\"Welcome\")\n",
    "    i=i+1\n",
    "print(\"End of loop\")"
   ]
  },
  {
   "cell_type": "code",
   "execution_count": 10,
   "metadata": {},
   "outputs": [
    {
     "data": {
      "text/plain": [
       "range(0, 5)"
      ]
     },
     "execution_count": 10,
     "metadata": {},
     "output_type": "execute_result"
    }
   ],
   "source": [
    "\"\"\"\n",
    "The range() function returns a sequence of numbers, \n",
    "starting from 0 by default, and increments by 1 (by default),\n",
    "and stops before a specified number\n",
    "\"\"\"\n",
    "range(5)"
   ]
  },
  {
   "cell_type": "code",
   "execution_count": 3,
   "metadata": {
    "collapsed": true
   },
   "outputs": [
    {
     "name": "stdout",
     "output_type": "stream",
     "text": [
      "Welcome\n",
      "Welcome\n",
      "Welcome\n",
      "Welcome\n",
      "Welcome\n",
      "Welcome\n",
      "Welcome\n",
      "Welcome\n",
      "Welcome\n",
      "Welcome\n",
      "End of code\n"
     ]
    }
   ],
   "source": [
    "for i in range(10):\n",
    "    print(\"Welcome\")\n",
    "print(\"End of code\")"
   ]
  },
  {
   "cell_type": "code",
   "execution_count": 13,
   "metadata": {
    "collapsed": true
   },
   "outputs": [
    {
     "name": "stdout",
     "output_type": "stream",
     "text": [
      "10\n",
      "11\n",
      "12\n",
      "13\n",
      "14\n",
      "15\n",
      "16\n",
      "17\n",
      "18\n",
      "19\n",
      "20\n",
      "21\n",
      "22\n",
      "23\n",
      "24\n",
      "25\n",
      "26\n",
      "27\n",
      "28\n",
      "29\n",
      "30\n",
      "31\n",
      "32\n",
      "33\n",
      "34\n",
      "35\n",
      "36\n",
      "37\n",
      "38\n",
      "39\n",
      "40\n",
      "41\n",
      "42\n",
      "43\n",
      "44\n",
      "45\n",
      "46\n",
      "47\n",
      "48\n",
      "49\n",
      "50\n",
      "51\n",
      "52\n",
      "53\n",
      "54\n",
      "55\n",
      "56\n",
      "57\n",
      "58\n",
      "59\n",
      "60\n",
      "61\n",
      "62\n",
      "63\n",
      "64\n",
      "65\n",
      "66\n",
      "67\n",
      "68\n",
      "69\n",
      "70\n",
      "71\n",
      "72\n",
      "73\n",
      "74\n",
      "75\n",
      "76\n",
      "77\n",
      "78\n",
      "79\n",
      "80\n",
      "81\n",
      "82\n",
      "83\n",
      "84\n",
      "85\n",
      "86\n",
      "87\n",
      "88\n",
      "89\n",
      "90\n",
      "91\n",
      "92\n",
      "93\n",
      "94\n",
      "95\n",
      "96\n",
      "97\n",
      "98\n",
      "99\n",
      "End of code\n"
     ]
    }
   ],
   "source": [
    "for i in range(10,100):\n",
    "    print(i)\n",
    "print(\"End of code\")"
   ]
  },
  {
   "cell_type": "code",
   "execution_count": 16,
   "metadata": {},
   "outputs": [
    {
     "name": "stdout",
     "output_type": "stream",
     "text": [
      "1\n",
      "4\n",
      "7\n",
      "10\n",
      "EOC\n"
     ]
    }
   ],
   "source": [
    "#range(start, stop, step)\n",
    "for i in range(1,11,3):\n",
    "    print(i)\n",
    "print(\"EOC\")"
   ]
  },
  {
   "cell_type": "code",
   "execution_count": 12,
   "metadata": {
    "collapsed": true
   },
   "outputs": [
    {
     "name": "stdout",
     "output_type": "stream",
     "text": [
      "10\n",
      "9\n",
      "8\n",
      "7\n",
      "6\n",
      "5\n",
      "4\n",
      "3\n",
      "2\n",
      "EOC\n"
     ]
    }
   ],
   "source": [
    "#range(start, stop, step)\n",
    "for i in range(10,1,-1):\n",
    "    print(i)\n",
    "print(\"EOC\")"
   ]
  },
  {
   "cell_type": "code",
   "execution_count": 4,
   "metadata": {},
   "outputs": [],
   "source": [
    "lst=[11,22,33,44,55,66,77,88,99,100]"
   ]
  },
  {
   "cell_type": "code",
   "execution_count": 5,
   "metadata": {},
   "outputs": [
    {
     "data": {
      "text/plain": [
       "10"
      ]
     },
     "execution_count": 5,
     "metadata": {},
     "output_type": "execute_result"
    }
   ],
   "source": [
    "len(lst)"
   ]
  },
  {
   "cell_type": "code",
   "execution_count": 6,
   "metadata": {
    "collapsed": true
   },
   "outputs": [
    {
     "name": "stdout",
     "output_type": "stream",
     "text": [
      "11\n",
      "22\n",
      "33\n",
      "44\n",
      "55\n",
      "66\n",
      "77\n",
      "88\n",
      "99\n",
      "100\n"
     ]
    }
   ],
   "source": [
    "i=0\n",
    "while i<len(lst):  \n",
    "    print(lst[i])  \n",
    "    i+=1"
   ]
  },
  {
   "cell_type": "code",
   "execution_count": 17,
   "metadata": {
    "collapsed": true
   },
   "outputs": [
    {
     "name": "stdout",
     "output_type": "stream",
     "text": [
      "11\n",
      "22\n",
      "33\n",
      "44\n",
      "55\n",
      "66\n",
      "77\n",
      "88\n",
      "99\n",
      "100\n"
     ]
    }
   ],
   "source": [
    "lst=[11,22,33,44,55,66,77,88,99,100]\n",
    "for i in lst:  \n",
    "    print(i)"
   ]
  },
  {
   "cell_type": "code",
   "execution_count": 9,
   "metadata": {},
   "outputs": [
    {
     "data": {
      "text/plain": [
       "121"
      ]
     },
     "execution_count": 9,
     "metadata": {},
     "output_type": "execute_result"
    }
   ],
   "source": [
    "lst[0]**2\n",
    "lst[1]**2\n",
    "lst[2]**2\n",
    "\n",
    "lst[9]**2"
   ]
  },
  {
   "cell_type": "code",
   "execution_count": 18,
   "metadata": {
    "scrolled": true
   },
   "outputs": [
    {
     "name": "stdout",
     "output_type": "stream",
     "text": [
      "121\n",
      "484\n",
      "1089\n",
      "1936\n",
      "3025\n",
      "4356\n",
      "5929\n",
      "7744\n",
      "9801\n",
      "10000\n"
     ]
    }
   ],
   "source": [
    "for i in lst: \n",
    "    squared_value=i**2\n",
    "    print(squared_value)"
   ]
  },
  {
   "cell_type": "code",
   "execution_count": 20,
   "metadata": {
    "scrolled": true
   },
   "outputs": [
    {
     "name": "stdout",
     "output_type": "stream",
     "text": [
      "Square of  11  is  121\n",
      "Square of  22  is  484\n",
      "Square of  33  is  1089\n",
      "Square of  44  is  1936\n",
      "Square of  55  is  3025\n",
      "Square of  66  is  4356\n",
      "Square of  77  is  5929\n",
      "Square of  88  is  7744\n",
      "Square of  99  is  9801\n",
      "Square of  100  is  10000\n"
     ]
    }
   ],
   "source": [
    "for i in lst: \n",
    "    squared_value=i**2\n",
    "    print(\"Square of \",i , \" is \", squared_value)"
   ]
  },
  {
   "cell_type": "code",
   "execution_count": 21,
   "metadata": {},
   "outputs": [
    {
     "name": "stdout",
     "output_type": "stream",
     "text": [
      "22  is even number\n",
      "44  is even number\n",
      "66  is even number\n",
      "88  is even number\n",
      "100  is even number\n"
     ]
    }
   ],
   "source": [
    "for i in lst:\n",
    "    if i%2==0:\n",
    "        print(i,\" is even number\")"
   ]
  },
  {
   "cell_type": "code",
   "execution_count": null,
   "metadata": {},
   "outputs": [],
   "source": [
    "#Print odd numbers from the list using for loop"
   ]
  },
  {
   "cell_type": "code",
   "execution_count": 18,
   "metadata": {},
   "outputs": [
    {
     "name": "stdout",
     "output_type": "stream",
     "text": [
      "['samson', 'joy', 'cynthiya', 'amanda']\n",
      "SAMSON\n",
      "JOY\n",
      "CYNTHIYA\n",
      "AMANDA\n"
     ]
    }
   ],
   "source": [
    "names=['samson','joy','cynthiya','amanda']\n",
    "print(names)\n",
    "for name in names:\n",
    "    print(name.upper())"
   ]
  },
  {
   "cell_type": "code",
   "execution_count": 19,
   "metadata": {},
   "outputs": [
    {
     "name": "stdout",
     "output_type": "stream",
     "text": [
      "['samson', 'joy', 'cynthiya', 'amanda']\n",
      "SAMSON  -  6\n",
      "JOY  -  3\n",
      "CYNTHIYA  -  8\n",
      "AMANDA  -  6\n"
     ]
    }
   ],
   "source": [
    "names=['samson','joy','cynthiya','amanda']\n",
    "print(names)\n",
    "for name in names:\n",
    "    print(name.upper(),' - ',len(name))"
   ]
  },
  {
   "cell_type": "code",
   "execution_count": 5,
   "metadata": {},
   "outputs": [],
   "source": [
    "t=(1,3,5,7,9,11)"
   ]
  },
  {
   "cell_type": "code",
   "execution_count": 7,
   "metadata": {
    "collapsed": true
   },
   "outputs": [
    {
     "name": "stdout",
     "output_type": "stream",
     "text": [
      "1\n",
      "3\n",
      "5\n",
      "7\n",
      "9\n",
      "11\n"
     ]
    }
   ],
   "source": [
    "for i in t:\n",
    "    print(i)"
   ]
  },
  {
   "cell_type": "code",
   "execution_count": 22,
   "metadata": {},
   "outputs": [],
   "source": [
    "population={\"SA\":60,\"NG\":20,\"IN\":135}"
   ]
  },
  {
   "cell_type": "code",
   "execution_count": 24,
   "metadata": {},
   "outputs": [
    {
     "name": "stdout",
     "output_type": "stream",
     "text": [
      "SA\n",
      "NG\n",
      "IN\n"
     ]
    }
   ],
   "source": [
    "for i in population:\n",
    "    print(i)"
   ]
  },
  {
   "cell_type": "code",
   "execution_count": 26,
   "metadata": {},
   "outputs": [
    {
     "name": "stdout",
     "output_type": "stream",
     "text": [
      "60\n",
      "20\n",
      "135\n"
     ]
    }
   ],
   "source": [
    "for i in population.values():\n",
    "    print(i)"
   ]
  },
  {
   "cell_type": "code",
   "execution_count": 27,
   "metadata": {},
   "outputs": [
    {
     "name": "stdout",
     "output_type": "stream",
     "text": [
      "SA 60\n",
      "NG 20\n",
      "IN 135\n"
     ]
    }
   ],
   "source": [
    "for i,j in population.items():\n",
    "    print(i,j)"
   ]
  },
  {
   "cell_type": "code",
   "execution_count": 12,
   "metadata": {
    "collapsed": true
   },
   "outputs": [
    {
     "data": {
      "text/plain": [
       "dict_values([2, 4, 6, 8, 10])"
      ]
     },
     "execution_count": 12,
     "metadata": {},
     "output_type": "execute_result"
    }
   ],
   "source": [
    "#Task - Modify above code to get following output\n",
    "#Population of ___ is ____ "
   ]
  },
  {
   "cell_type": "code",
   "execution_count": 23,
   "metadata": {
    "collapsed": true
   },
   "outputs": [
    {
     "name": "stdout",
     "output_type": "stream",
     "text": [
      "[22, 44, 66, 88, 100]\n",
      "[11, 33, 55, 77, 99]\n"
     ]
    }
   ],
   "source": [
    "#Guess the output\n",
    "lst=[3,1,7,5,2,8,9]\n",
    "even_lst=[]\n",
    "odd_lst=[] \n",
    "for i in lst: \n",
    "    if i%2==0:\n",
    "        even_lst.append(i)\n",
    "    else:\n",
    "        odd_lst.append(i)\n",
    "print(even_lst)\n",
    "print(odd_lst)        "
   ]
  },
  {
   "cell_type": "code",
   "execution_count": 29,
   "metadata": {},
   "outputs": [
    {
     "name": "stdout",
     "output_type": "stream",
     "text": [
      "Enter a number 1\n",
      "1 is an odd number\n",
      "Enter a number 2\n",
      "2 is an even number\n",
      "Enter a number 3\n",
      "3 is an odd number\n"
     ]
    }
   ],
   "source": [
    "#Guess the output\n",
    "for i in range(3):\n",
    "    number=int(input(\"Enter a number \"))\n",
    "    if number%2==0:\n",
    "        print(number, \"is an even number\")\n",
    "    else:\n",
    "        print(number, \"is an odd number\")"
   ]
  },
  {
   "cell_type": "code",
   "execution_count": 20,
   "metadata": {},
   "outputs": [
    {
     "name": "stdout",
     "output_type": "stream",
     "text": [
      "Enter p 1000\n",
      "Enter n 5\n",
      "Enter r 4\n",
      "SI =  200.0\n",
      "Enter p 2000\n",
      "Enter n 4\n",
      "Enter r 2\n",
      "SI =  160.0\n",
      "Enter p 15423\n",
      "Enter n 4\n",
      "Enter r 5\n",
      "SI =  3084.6\n"
     ]
    }
   ],
   "source": [
    "#Guess the output\n",
    "for i in range(3):\n",
    "    p=int(input(\"Enter p \"))\n",
    "    n=int(input(\"Enter n \"))\n",
    "    r=int(input(\"Enter r \"))\n",
    "    si=(p*n*r)/100\n",
    "    print(\"SI = \",si)"
   ]
  }
 ],
 "metadata": {
  "kernelspec": {
   "display_name": "Python 3 (ipykernel)",
   "language": "python",
   "name": "python3"
  },
  "language_info": {
   "codemirror_mode": {
    "name": "ipython",
    "version": 3
   },
   "file_extension": ".py",
   "mimetype": "text/x-python",
   "name": "python",
   "nbconvert_exporter": "python",
   "pygments_lexer": "ipython3",
   "version": "3.9.7"
  }
 },
 "nbformat": 4,
 "nbformat_minor": 2
}
