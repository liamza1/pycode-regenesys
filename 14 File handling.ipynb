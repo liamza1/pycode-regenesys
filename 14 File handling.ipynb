{
 "cells": [
  {
   "cell_type": "markdown",
   "id": "bedc19c1",
   "metadata": {},
   "source": [
    "in Python, a file operation takes place in the following order:\n",
    "\n",
    "    Open a file\n",
    "    Read or write (perform operation)\n",
    "    Close the file\n"
   ]
  },
  {
   "cell_type": "code",
   "execution_count": 41,
   "id": "6796e982",
   "metadata": {},
   "outputs": [],
   "source": [
    "f=open(\"test1.txt\", mode='r')"
   ]
  },
  {
   "cell_type": "code",
   "execution_count": 42,
   "id": "fdf2bd05",
   "metadata": {},
   "outputs": [
    {
     "data": {
      "text/plain": [
       "_io.TextIOWrapper"
      ]
     },
     "execution_count": 42,
     "metadata": {},
     "output_type": "execute_result"
    }
   ],
   "source": [
    "type(f)"
   ]
  },
  {
   "cell_type": "code",
   "execution_count": 43,
   "id": "0f4a9a68",
   "metadata": {},
   "outputs": [
    {
     "name": "stdout",
     "output_type": "stream",
     "text": [
      "line 1\n"
     ]
    }
   ],
   "source": [
    "print(f.read())"
   ]
  },
  {
   "cell_type": "code",
   "execution_count": 44,
   "id": "b4581ed8",
   "metadata": {},
   "outputs": [],
   "source": [
    "f.close()"
   ]
  },
  {
   "cell_type": "code",
   "execution_count": 51,
   "id": "a95f8d02",
   "metadata": {},
   "outputs": [
    {
     "name": "stdout",
     "output_type": "stream",
     "text": [
      "line 1\n",
      "line 2\n"
     ]
    }
   ],
   "source": [
    "print(\"line 1\\nline 2\")"
   ]
  },
  {
   "cell_type": "code",
   "execution_count": 49,
   "id": "5ade331c",
   "metadata": {},
   "outputs": [],
   "source": [
    "#writing data to the file\n",
    "f=open(\"test1.txt\", mode='w')\n",
    "f.write(\"line 2 \\n\")\n",
    "f.write(\"line 3\")\n",
    "f.close()"
   ]
  },
  {
   "cell_type": "code",
   "execution_count": 46,
   "id": "bce6c480",
   "metadata": {},
   "outputs": [
    {
     "data": {
      "text/plain": [
       "'line 2 line 3'"
      ]
     },
     "execution_count": 46,
     "metadata": {},
     "output_type": "execute_result"
    }
   ],
   "source": [
    "f=open(\"test1.txt\", mode='r')\n",
    "f.read()"
   ]
  },
  {
   "cell_type": "code",
   "execution_count": 47,
   "id": "28ddbe5e",
   "metadata": {},
   "outputs": [],
   "source": [
    "f=open(\"test1.txt\", mode='a')\n",
    "f.write(\"line 4\")\n",
    "f.write(\"line 5\")\n",
    "f.close()"
   ]
  },
  {
   "cell_type": "code",
   "execution_count": 52,
   "id": "0df50152",
   "metadata": {},
   "outputs": [
    {
     "ename": "FileNotFoundError",
     "evalue": "[Errno 2] No such file or directory: 'test3.txt'",
     "output_type": "error",
     "traceback": [
      "\u001b[1;31m---------------------------------------------------------------------------\u001b[0m",
      "\u001b[1;31mFileNotFoundError\u001b[0m                         Traceback (most recent call last)",
      "\u001b[1;32m~\\AppData\\Local\\Temp/ipykernel_20060/256316111.py\u001b[0m in \u001b[0;36m<module>\u001b[1;34m\u001b[0m\n\u001b[1;32m----> 1\u001b[1;33m \u001b[0mf\u001b[0m\u001b[1;33m=\u001b[0m\u001b[0mopen\u001b[0m\u001b[1;33m(\u001b[0m\u001b[1;34m\"test3.txt\"\u001b[0m\u001b[1;33m,\u001b[0m \u001b[0mmode\u001b[0m\u001b[1;33m=\u001b[0m\u001b[1;34m'r'\u001b[0m\u001b[1;33m)\u001b[0m\u001b[1;33m\u001b[0m\u001b[1;33m\u001b[0m\u001b[0m\n\u001b[0m\u001b[0;32m      2\u001b[0m \u001b[0mprint\u001b[0m\u001b[1;33m(\u001b[0m\u001b[0mf\u001b[0m\u001b[1;33m.\u001b[0m\u001b[0mread\u001b[0m\u001b[1;33m(\u001b[0m\u001b[1;33m)\u001b[0m\u001b[1;33m)\u001b[0m\u001b[1;33m\u001b[0m\u001b[1;33m\u001b[0m\u001b[0m\n\u001b[0;32m      3\u001b[0m \u001b[0mf\u001b[0m\u001b[1;33m.\u001b[0m\u001b[0mclose\u001b[0m\u001b[1;33m(\u001b[0m\u001b[1;33m)\u001b[0m\u001b[1;33m\u001b[0m\u001b[1;33m\u001b[0m\u001b[0m\n",
      "\u001b[1;31mFileNotFoundError\u001b[0m: [Errno 2] No such file or directory: 'test3.txt'"
     ]
    }
   ],
   "source": [
    "f=open(\"test3.txt\", mode='r')\n",
    "print(f.read())\n",
    "f.close()"
   ]
  },
  {
   "cell_type": "code",
   "execution_count": 7,
   "id": "e3bd159a",
   "metadata": {},
   "outputs": [
    {
     "name": "stdout",
     "output_type": "stream",
     "text": [
      "File does not exist\n"
     ]
    }
   ],
   "source": [
    "try:\n",
    "    f=open(\"test3.txt\", mode='r')    \n",
    "except:\n",
    "    print(\"File does not exist\")\n",
    "else:\n",
    "    print(f.read())\n",
    "finally:\n",
    "    f.close()"
   ]
  },
  {
   "cell_type": "code",
   "execution_count": 53,
   "id": "706912be",
   "metadata": {},
   "outputs": [
    {
     "name": "stdout",
     "output_type": "stream",
     "text": [
      "line 2 \n",
      "line 3\n"
     ]
    }
   ],
   "source": [
    "with open(\"test1.txt\") as f: \n",
    "    print(f.read())"
   ]
  },
  {
   "cell_type": "code",
   "execution_count": null,
   "id": "cee9decb",
   "metadata": {},
   "outputs": [],
   "source": []
  },
  {
   "cell_type": "markdown",
   "id": "f6be4556",
   "metadata": {},
   "source": [
    "Mode\t\t\t\t\tDescription\n",
    "\t\t\t\n",
    "r  -  Opens a file for reading. (default)\n",
    "\t\t\t\n",
    "w  -  Opens a file for writing. Creates a new file if it does \n",
    "    not exist or truncates the file if it exists.\n",
    "\t\t\t\n",
    "\t\n",
    "a  -  Opens a file for appending at the end of the file without truncating it. \n",
    "    Creates a new file if it does not exist.\n",
    "\t\t\t\n",
    "t  -  Opens in text mode. (default)\n",
    "\t\t\t\n",
    "b  -  Opens in binary mode.\n",
    "\t\t\t\n",
    "\\+  -  Opens a file for updating (reading and writing)"
   ]
  },
  {
   "cell_type": "code",
   "execution_count": 37,
   "id": "caec99d2",
   "metadata": {
    "collapsed": true
   },
   "outputs": [
    {
     "name": "stdout",
     "output_type": "stream",
     "text": [
      "Enter the data into file Enter the data into file What is Lorem Ipsum?  Lorem Ipsum is simply dummy text of the printing and typesetting industry. Lorem Ipsum has been the industry's standard dummy text ever since the 1500s, when an unknown printer took a galley of type and scrambled it to make a type specimen book. It has survived not only five centuries, but also the leap into electronic typesetting, remaining essentially unchanged. It was popularised in the 1960s with the release of Letraset sheets containing Lorem Ipsum passages, and more recently with desktop publishing software like Aldus PageMaker including versions of Lorem Ipsum. Why do we use it?  It is a long established fact that a reader will be distracted by the readable content of a page when looking at its layout. The point of using Lorem Ipsum is that it has a more-or-less normal distribution of letters, as opposed to using 'Content here, content here', making it look like readable English.\n",
      "enter file nametest2.txt\n"
     ]
    }
   ],
   "source": [
    "#Task - enter filename, file content in a python string variable and then create a text file out ata into file \")"
   ]
  },
  {
   "cell_type": "code",
   "execution_count": 64,
   "id": "a9062928",
   "metadata": {},
   "outputs": [
    {
     "name": "stdout",
     "output_type": "stream",
     "text": [
      "enter filenamenigeria_info.txt\n"
     ]
    }
   ],
   "source": [
    "filename=input(\"enter filename\")"
   ]
  },
  {
   "cell_type": "code",
   "execution_count": 65,
   "id": "a38bac0e",
   "metadata": {},
   "outputs": [
    {
     "data": {
      "text/plain": [
       "'nigeria_info.txt'"
      ]
     },
     "execution_count": 65,
     "metadata": {},
     "output_type": "execute_result"
    }
   ],
   "source": [
    "filename"
   ]
  },
  {
   "cell_type": "code",
   "execution_count": 66,
   "id": "c1f5be4e",
   "metadata": {},
   "outputs": [
    {
     "name": "stdout",
     "output_type": "stream",
     "text": [
      "enter file data Nigeria, an African country on the Gulf of Guinea, has many natural landmarks and wildlife reserves. Protected areas such as Cross River National Park and Yankari National Park have waterfalls, dense rainforest, savanna and rare primate habitats. One of the most recognizable sites is Zuma Rock, a 725m-tall monolith outside the capital of Abuja that’s pictured on the national currency.\n"
     ]
    }
   ],
   "source": [
    "file_content=input(\"enter file data \")"
   ]
  },
  {
   "cell_type": "code",
   "execution_count": 67,
   "id": "d5b58379",
   "metadata": {},
   "outputs": [
    {
     "data": {
      "text/plain": [
       "'Nigeria, an African country on the Gulf of Guinea, has many natural landmarks and wildlife reserves. Protected areas such as Cross River National Park and Yankari National Park have waterfalls, dense rainforest, savanna and rare primate habitats. One of the most recognizable sites is Zuma Rock, a 725m-tall monolith outside the capital of Abuja that’s pictured on the national currency.'"
      ]
     },
     "execution_count": 67,
     "metadata": {},
     "output_type": "execute_result"
    }
   ],
   "source": [
    "file_content"
   ]
  },
  {
   "cell_type": "code",
   "execution_count": 68,
   "id": "29deb7b9",
   "metadata": {},
   "outputs": [],
   "source": [
    "with open(filename, mode='w') as f:\n",
    "    #perform file operations\n",
    "    f.write(file_content)"
   ]
  },
  {
   "cell_type": "code",
   "execution_count": 69,
   "id": "db1d8d8a",
   "metadata": {
    "collapsed": true
   },
   "outputs": [
    {
     "name": "stdout",
     "output_type": "stream",
     "text": [
      "NIGERIA, AN AFRICAN COUNTRY ON THE GULF OF GUINEA, HAS MANY NATURAL LANDMARKS AND WILDLIFE RESERVES \n",
      "\n",
      " PROTECTED AREAS SUCH AS CROSS RIVER NATIONAL PARK AND YANKARI NATIONAL PARK HAVE WATERFALLS, DENSE RAINFOREST, SAVANNA AND RARE PRIMATE HABITATS \n",
      "\n",
      " ONE OF THE MOST RECOGNIZABLE SITES IS ZUMA ROCK, A 725M-TALL MONOLITH OUTSIDE THE CAPITAL OF ABUJA THAT’S PICTURED ON THE NATIONAL CURRENCY \n",
      "\n",
      " \n",
      "\n"
     ]
    }
   ],
   "source": [
    "#Guess the output\n",
    "with open(filename, mode='r') as f:\n",
    "    #perform file operations\n",
    "    file_data=f.read()\n",
    "    file_data=file_data.split(\".\")\n",
    "    for line in file_data:\n",
    "        print(line.upper(),\"\\n\")"
   ]
  },
  {
   "cell_type": "code",
   "execution_count": null,
   "id": "343c73b4",
   "metadata": {},
   "outputs": [],
   "source": [
    "#create a list of numbers, using for loop iterate over the list,  put even and odd numbers in 2 separate files"
   ]
  },
  {
   "cell_type": "code",
   "execution_count": null,
   "id": "688e050e",
   "metadata": {},
   "outputs": [],
   "source": [
    "# os module"
   ]
  },
  {
   "cell_type": "code",
   "execution_count": 70,
   "id": "c79ec0a7",
   "metadata": {},
   "outputs": [
    {
     "data": {
      "text/plain": [
       "'C:\\\\regensys\\\\Courses\\\\FSDS\\\\MCQs\\\\Python\\\\Python code'"
      ]
     },
     "execution_count": 70,
     "metadata": {},
     "output_type": "execute_result"
    }
   ],
   "source": [
    "import os\n",
    "os.getcwd()"
   ]
  },
  {
   "cell_type": "code",
   "execution_count": 18,
   "id": "ed6780ac",
   "metadata": {
    "scrolled": true
   },
   "outputs": [
    {
     "data": {
      "text/plain": [
       "8192"
      ]
     },
     "execution_count": 18,
     "metadata": {},
     "output_type": "execute_result"
    }
   ],
   "source": [
    "#file/directory size in KB\n",
    "os.path.getsize(os.getcwd())"
   ]
  },
  {
   "cell_type": "code",
   "execution_count": 71,
   "id": "4ae7e972",
   "metadata": {},
   "outputs": [],
   "source": [
    "os.mkdir(\"C:\\MyPythonProject\")"
   ]
  },
  {
   "cell_type": "code",
   "execution_count": 72,
   "id": "af19c105",
   "metadata": {},
   "outputs": [],
   "source": [
    "os.rmdir(\"C:\\\\MyPythonProject\")"
   ]
  },
  {
   "cell_type": "code",
   "execution_count": 73,
   "id": "5651aff0",
   "metadata": {
    "collapsed": true
   },
   "outputs": [
    {
     "data": {
      "text/plain": [
       "['.ipynb_checkpoints',\n",
       " '10 for loop.ipynb',\n",
       " '11 Functions.ipynb',\n",
       " '12 module_demo.ipynb',\n",
       " '13 Exception handling.ipynb',\n",
       " '14 File handling.ipynb',\n",
       " '3_List - Jupyter Notebook.pdf',\n",
       " '3_List.ipynb',\n",
       " '4_Tuple - Jupyter Notebook.pdf',\n",
       " '4_Tuple.ipynb',\n",
       " '5_Dictionary - Jupyter Notebook.pdf',\n",
       " '5_Dictionary.ipynb',\n",
       " '6_Operators - Jupyter Notebook.pdf',\n",
       " '6_Operators.ipynb',\n",
       " '7 Date and time - Jupyter Notebook.pdf',\n",
       " '7 Date and time.ipynb',\n",
       " '8 Conditional statments - Jupyter Notebook.pdf',\n",
       " '8 Conditional statments.ipynb',\n",
       " '9 while loop - Jupyter Notebook.pdf',\n",
       " '9 while loop.ipynb',\n",
       " 'demo.py',\n",
       " 'demo.txt',\n",
       " 'Employee.py',\n",
       " 'finance.py',\n",
       " 'handwritten notes 1.pdf',\n",
       " 'handwritten notes 2.pdf',\n",
       " 'nigeria_info.txt',\n",
       " 'regenesys.jpg',\n",
       " 'sample.mp3',\n",
       " 't.mp3',\n",
       " 'test1.txt',\n",
       " 'test2.txt',\n",
       " 'Untitled.ipynb',\n",
       " 'Untitled1.ipynb',\n",
       " 'welcome.mp3',\n",
       " '__pycache__']"
      ]
     },
     "execution_count": 73,
     "metadata": {},
     "output_type": "execute_result"
    }
   ],
   "source": [
    "#listdir() function returns the list of all files and directories in the specified directory\n",
    "os.listdir()"
   ]
  },
  {
   "cell_type": "code",
   "execution_count": 74,
   "id": "9fe3e623",
   "metadata": {},
   "outputs": [
    {
     "name": "stdout",
     "output_type": "stream",
     "text": [
      "['.ipynb_checkpoints', '10 for loop.ipynb', '11 Functions.ipynb', '12 module_demo.ipynb', '13 Exception handling.ipynb', '14 File handling.ipynb', '3_List - Jupyter Notebook.pdf', '3_List.ipynb', '4_Tuple - Jupyter Notebook.pdf', '4_Tuple.ipynb', '5_Dictionary - Jupyter Notebook.pdf', '5_Dictionary.ipynb', '6_Operators - Jupyter Notebook.pdf', '6_Operators.ipynb', '7 Date and time - Jupyter Notebook.pdf', '7 Date and time.ipynb', '8 Conditional statments - Jupyter Notebook.pdf', '8 Conditional statments.ipynb', '9 while loop - Jupyter Notebook.pdf', '9 while loop.ipynb', 'demo.py', 'demo.txt', 'Employee.py', 'finance.py', 'handwritten notes 1.pdf', 'handwritten notes 2.pdf', 'nigeria_info.txt', 'regenesys.jpg', 'sample.mp3', 't.mp3', 'test1.txt', 'test2.txt', 'Untitled.ipynb', 'Untitled1.ipynb', 'welcome.mp3', '__pycache__']\n"
     ]
    }
   ],
   "source": [
    "files_list = []\n",
    "# Iterate directory\n",
    "for file in os.listdir():\n",
    "    files_list.append(file)\n",
    "print(files_list)"
   ]
  },
  {
   "cell_type": "code",
   "execution_count": 77,
   "id": "7c077c46",
   "metadata": {},
   "outputs": [
    {
     "name": "stdout",
     "output_type": "stream",
     "text": [
      "['demo.txt', 'nigeria_info.txt', 'test1.txt', 'test2.txt']\n"
     ]
    }
   ],
   "source": [
    "files_list = []\n",
    "# Iterate directory\n",
    "for file in os.listdir():\n",
    "    # check only text files\n",
    "    if file.endswith('.txt'):\n",
    "        files_list.append(file)\n",
    "print(files_list)"
   ]
  },
  {
   "cell_type": "code",
   "execution_count": 79,
   "id": "44efc5c0",
   "metadata": {},
   "outputs": [],
   "source": [
    "os.remove('demo.txt')"
   ]
  },
  {
   "cell_type": "code",
   "execution_count": 78,
   "id": "f1f30585",
   "metadata": {},
   "outputs": [
    {
     "ename": "FileNotFoundError",
     "evalue": "[WinError 2] The system cannot find the file specified: 'demofile.txt'",
     "output_type": "error",
     "traceback": [
      "\u001b[1;31m---------------------------------------------------------------------------\u001b[0m",
      "\u001b[1;31mFileNotFoundError\u001b[0m                         Traceback (most recent call last)",
      "\u001b[1;32m~\\AppData\\Local\\Temp/ipykernel_20060/667485764.py\u001b[0m in \u001b[0;36m<module>\u001b[1;34m\u001b[0m\n\u001b[0;32m      1\u001b[0m \u001b[1;31m#removing a file\u001b[0m\u001b[1;33m\u001b[0m\u001b[1;33m\u001b[0m\u001b[0m\n\u001b[1;32m----> 2\u001b[1;33m \u001b[0mos\u001b[0m\u001b[1;33m.\u001b[0m\u001b[0mremove\u001b[0m\u001b[1;33m(\u001b[0m\u001b[1;34m\"demofile.txt\"\u001b[0m\u001b[1;33m)\u001b[0m\u001b[1;33m\u001b[0m\u001b[1;33m\u001b[0m\u001b[0m\n\u001b[0m",
      "\u001b[1;31mFileNotFoundError\u001b[0m: [WinError 2] The system cannot find the file specified: 'demofile.txt'"
     ]
    }
   ],
   "source": [
    "#removing a file\n",
    "os.remove(\"demofile.txt\")"
   ]
  },
  {
   "cell_type": "code",
   "execution_count": 22,
   "id": "da400125",
   "metadata": {},
   "outputs": [
    {
     "name": "stdout",
     "output_type": "stream",
     "text": [
      "The file does not exist\n"
     ]
    }
   ],
   "source": [
    "if os.path.exists(\"demofile.txt\"):\n",
    "  os.remove(\"demofile.txt\")\n",
    "else:\n",
    "  print(\"The file does not exist\")"
   ]
  },
  {
   "cell_type": "code",
   "execution_count": 24,
   "id": "43f57e98",
   "metadata": {
    "collapsed": true
   },
   "outputs": [
    {
     "name": "stdout",
     "output_type": "stream",
     "text": [
      "Collecting gtts\n",
      "  Downloading gTTS-2.2.4-py3-none-any.whl (26 kB)\n",
      "Requirement already satisfied: six in c:\\users\\nilay\\anaconda3\\lib\\site-packages (from gtts) (1.16.0)\n",
      "Requirement already satisfied: requests in c:\\users\\nilay\\anaconda3\\lib\\site-packages (from gtts) (2.26.0)\n",
      "Requirement already satisfied: click in c:\\users\\nilay\\anaconda3\\lib\\site-packages (from gtts) (8.0.3)\n",
      "Requirement already satisfied: colorama in c:\\users\\nilay\\anaconda3\\lib\\site-packages (from click->gtts) (0.4.4)\n",
      "Requirement already satisfied: charset-normalizer~=2.0.0 in c:\\users\\nilay\\anaconda3\\lib\\site-packages (from requests->gtts) (2.0.4)\n",
      "Requirement already satisfied: idna<4,>=2.5 in c:\\users\\nilay\\anaconda3\\lib\\site-packages (from requests->gtts) (3.2)\n",
      "Requirement already satisfied: certifi>=2017.4.17 in c:\\users\\nilay\\anaconda3\\lib\\site-packages (from requests->gtts) (2021.10.8)\n",
      "Requirement already satisfied: urllib3<1.27,>=1.21.1 in c:\\users\\nilay\\anaconda3\\lib\\site-packages (from requests->gtts) (1.26.7)\n",
      "Installing collected packages: gtts\n",
      "Successfully installed gtts-2.2.4\n"
     ]
    }
   ],
   "source": [
    "!pip install gtts"
   ]
  },
  {
   "cell_type": "code",
   "execution_count": 25,
   "id": "303c4e21",
   "metadata": {
    "collapsed": true
   },
   "outputs": [
    {
     "name": "stdout",
     "output_type": "stream",
     "text": [
      "Collecting playsound\n",
      "  Downloading playsound-1.3.0.tar.gz (7.7 kB)\n",
      "Building wheels for collected packages: playsound\n",
      "  Building wheel for playsound (setup.py): started\n",
      "  Building wheel for playsound (setup.py): finished with status 'done'\n",
      "  Created wheel for playsound: filename=playsound-1.3.0-py3-none-any.whl size=7037 sha256=09c3dc95e0c1d8e756d9dc0c94de479c43257f43bb1151c6bb33806edb8843ab\n",
      "  Stored in directory: c:\\users\\nilay\\appdata\\local\\pip\\cache\\wheels\\ba\\39\\54\\c8f7ff9a88a644d3c58b4dec802d90b79a2e0fb2a6b884bf82\n",
      "Successfully built playsound\n",
      "Installing collected packages: playsound\n",
      "Successfully installed playsound-1.3.0\n"
     ]
    }
   ],
   "source": [
    "!pip install playsound"
   ]
  },
  {
   "cell_type": "code",
   "execution_count": 28,
   "id": "a101d4e6",
   "metadata": {
    "collapsed": true
   },
   "outputs": [
    {
     "name": "stdout",
     "output_type": "stream",
     "text": [
      "Collecting pyttsx3\n",
      "  Downloading pyttsx3-2.90-py3-none-any.whl (39 kB)\n",
      "Requirement already satisfied: pywin32 in c:\\users\\nilay\\anaconda3\\lib\\site-packages (from pyttsx3) (228)\n",
      "Requirement already satisfied: comtypes in c:\\users\\nilay\\anaconda3\\lib\\site-packages (from pyttsx3) (1.1.10)\n",
      "Collecting pypiwin32\n",
      "  Downloading pypiwin32-223-py3-none-any.whl (1.7 kB)\n",
      "Installing collected packages: pypiwin32, pyttsx3\n",
      "Successfully installed pypiwin32-223 pyttsx3-2.90\n"
     ]
    }
   ],
   "source": [
    "!pip install pyttsx3  "
   ]
  },
  {
   "cell_type": "code",
   "execution_count": 31,
   "id": "3857c9ed",
   "metadata": {},
   "outputs": [
    {
     "data": {
      "text/plain": [
       "str"
      ]
     },
     "execution_count": 31,
     "metadata": {},
     "output_type": "execute_result"
    }
   ],
   "source": [
    "type(text_data)"
   ]
  },
  {
   "cell_type": "code",
   "execution_count": 32,
   "id": "f2defed1",
   "metadata": {},
   "outputs": [
    {
     "name": "stdout",
     "output_type": "stream",
     "text": [
      "Requirement already satisfied: Pillow in c:\\users\\nilay\\anaconda3\\lib\\site-packages (8.4.0)\n"
     ]
    }
   ],
   "source": [
    "!pip install Pillow"
   ]
  },
  {
   "cell_type": "code",
   "execution_count": 81,
   "id": "db3c6d54",
   "metadata": {},
   "outputs": [
    {
     "name": "stdout",
     "output_type": "stream",
     "text": [
      "width= 1000 height= 666\n"
     ]
    }
   ],
   "source": [
    "from PIL import Image\n",
    "#getting image widtth and height in pixel  \n",
    "filename = \"regenesys.jpg\"\n",
    "with Image.open(filename) as img:\n",
    "    width, height = img.size\n",
    "    print(\"width=\",width, \"height=\",height)"
   ]
  },
  {
   "cell_type": "code",
   "execution_count": 82,
   "id": "ceaa7b16",
   "metadata": {},
   "outputs": [],
   "source": [
    "from PIL import Image\n",
    "#rotating an image  \n",
    "filename = \"regenesys.jpg\"\n",
    "with Image.open(filename) as img:    \n",
    "    img=img.rotate(90)\n",
    "    img.save(\"rotated_picture.jpg\")"
   ]
  },
  {
   "cell_type": "code",
   "execution_count": null,
   "id": "37912d63",
   "metadata": {},
   "outputs": [],
   "source": [
    "#Text to speech"
   ]
  },
  {
   "cell_type": "code",
   "execution_count": 86,
   "id": "c647b3f6",
   "metadata": {},
   "outputs": [],
   "source": [
    "import gtts  \n",
    "from playsound import playsound  \n",
    "\n",
    "# make a request to google to get synthesis  \n",
    "t1 = gtts.gTTS(\"Welcome to Regenesys. This is your Python class.\")  \n",
    "\n",
    "\n",
    "# save the audio file  \n",
    "t1.save(\"welcome.mp3\")   \n",
    "\n",
    "\n",
    "# play the audio file  \n",
    "playsound(\"welcome.mp3\")  "
   ]
  },
  {
   "cell_type": "code",
   "execution_count": null,
   "id": "c8455ab6",
   "metadata": {},
   "outputs": [],
   "source": []
  }
 ],
 "metadata": {
  "kernelspec": {
   "display_name": "Python 3 (ipykernel)",
   "language": "python",
   "name": "python3"
  },
  "language_info": {
   "codemirror_mode": {
    "name": "ipython",
    "version": 3
   },
   "file_extension": ".py",
   "mimetype": "text/x-python",
   "name": "python",
   "nbconvert_exporter": "python",
   "pygments_lexer": "ipython3",
   "version": "3.9.7"
  }
 },
 "nbformat": 4,
 "nbformat_minor": 5
}
